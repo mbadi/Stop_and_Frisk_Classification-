{
 "cells": [
  {
   "cell_type": "markdown",
   "metadata": {},
   "source": [
    "## CSE 7393 Machine Learning in Python - Class Project (Dr. Eric Larson) : Deep Neural Networks on NYPD's  Stop-and-Frisk \n",
    "\n",
    "\n",
    "\n",
    "**Team members**:\n",
    "  * Name 1: Mahmoud Badi \n",
    "  * Name 2: Rahul Khandalkar\n",
    "  * Name 3: Aman Singh \n",
    "  \n",
    "**Goal and Business/Use Case**:  \n",
    "We have utilized NYPDs Stop and Frisk dataset for our Lab 2.\n",
    "In our dataset (2012), New Yorkers were stopped by the police 532,911 times:\n",
    "- 473,644 were totally innocent (89 percent).\n",
    "- 284,229 were black (55 percent).\n",
    "- 165,140 were Latino (32 percent).\n",
    "- 50,366 were white (10 percent).\n",
    "\n",
    "In order to understand the information captured in the csv file, we took a look at the specs document that helps us identify the various features recorded in our dataset.\n",
    "Our goal is to build a classification algorithm that can predict arrests efficiently so that they can be implemented on other states or other country's law enforcement databases. This will not only help reduce the number of inmates in prisons and save tax payer's money but also decrease the public frustration rate/anger and improve's the law enforcement's credibility.\n",
    "We found that people of African or Hispanic descent were stopped more frequently than whites. This is due to the fact that humans make decisions based on their own experiences with people from different races, ages, shapes, and other characterisitics. We've also tried to find a correlation between the arrests made, age, and race.\n",
    "Using a strong classification algorithm will allow a law enforcement agency to negate the possibility of making mistakes, give them a second non-judgemental point of view, and reduce the unprofessionalism of police by a high extent."
   ]
  },
  {
   "cell_type": "markdown",
   "metadata": {},
   "source": [
    "### Defining and Preparing Our Variables \n",
    "\n",
    "Our Dataset came with 112 features. Due to the massive size of this datasete  and the computational needs to accomodate such big dataset, we performed this lab only on a fraction of these  features which we believe are important and came up with results that backup the claims of the police being unprofessional and biased in their judgments and arrests. \n",
    "The part where we do visualization is not included here, since it will be a replica of what we did in lab2. If the reader is interested in seeing if actually the police of NYC were biased and unprofessional, this is proved in our visualization part \n",
    "in lab2. \n",
    "\n",
    "We shortlisted and included the following features in this Deep Neural Network project:\n",
    "\n",
    "* **perobs**: Period of Observation\n",
    "* **rf_attir**: reason for frisk: inappropirate attire for season \n",
    "* **offunif**: Was officer in uniform? \n",
    "* **inout**: WAS STOP INSIDE OR OUTSIDE ?\n",
    "* **perstop**: PERIOD OF STOP (MMM)\n",
    "* **arstmade**: WAS AN ARREST MADE ?\n",
    "* **frisked**: WAS SUSPECT FRISKED ?\n",
    "* **searched**: WAS SUSPECT SEARCHED ?\n",
    "* **contrabin**: WAS CONTRABAND FOUND ON SUSPECT ?\n",
    "* **pistol**: WAS A PISTOL FOUND ON SUSPECT ?\n",
    "* **race**: SUSPECT'S RACE\n",
    "* **sex**: SUSPECT'S SEX\n",
    "* **age**: SUSPECT'S AGE \n",
    "\n",
    "\n",
    "**Some Preprocessing Operations**:\n",
    "\n",
    "* We've converted all Yes and No values to 1s and 0s.\n",
    "* We also performed one-hot encoding on *sex* and *race* and had all of these one-hot-encoded values saved into columns (Improvement on lab2 : we lost points because we didn't do this in lab2).\n",
    "* Removed all of the NaNs.\n",
    "* Concatenated all of the feature columns into one X_all variable that has all of our features.\n",
    "* We didn't implement PCA here, because when we tried implementing it on these features in lab2, it wasn't able to seperate.\n",
    "\n",
    "**The final dataset will be in X_all where all of the engineered features will be stored** \n",
    "\n",
    "**We will comment on each pre-processing step just to make it clear**"
   ]
  },
  {
   "cell_type": "code",
   "execution_count": 5,
   "metadata": {
    "collapsed": false
   },
   "outputs": [],
   "source": [
    "import sys\n",
    "import pandas as pd        #importing pandas to read the file\n",
    "import numpy as np         #importing numpy as we will need it later "
   ]
  },
  {
   "cell_type": "code",
   "execution_count": 8,
   "metadata": {
    "collapsed": false
   },
   "outputs": [
    {
     "name": "stderr",
     "output_type": "stream",
     "text": [
      "<string>:2: DtypeWarning: Columns (73,103) have mixed types. Specify dtype option on import or set low_memory=False.\n"
     ]
    },
    {
     "name": "stdout",
     "output_type": "stream",
     "text": [
      "Wall time: 6.1 s\n"
     ]
    }
   ],
   "source": [
    "%%time\n",
    "df=pd.read_csv('2012.csv') #reading the CSV file of 2012 dataset for Stop and Frisk "
   ]
  },
  {
   "cell_type": "code",
   "execution_count": 4,
   "metadata": {
    "collapsed": false
   },
   "outputs": [],
   "source": [
    "X=pd.DataFrame()               #creating the X variable to put the features in. \n",
    "X['age']=df['age']\n",
    "X['sex']=df['sex']\n",
    "X['race']=df['race']\n",
    "X['perobs']=df['perobs']\n",
    "X['inout']=df['inout']\n",
    "X['rf_attir']=df['rf_attir']\n",
    "X['searched']=df['searched']\n",
    "X['frisked']=df['frisked']\n",
    "X['offunif']=df['offunif']\n",
    "X['pistol']=df['pistol']\n",
    "X['contrabn']=df['contrabn']\n",
    "X['arstmade']=df['arstmade']\n",
    "X['pct']=df['pct']\n",
    "X=X.replace(['Y', 'N'], [1, 0]) #changing all of Yes and NOs to 1s and 0s\n",
    "X=X.replace(['I', 'O'], [1, 0]) #changing the \"In\" and \"Out\" to 1 and 0 too \n",
    "y=X['arstmade']                 #creating our target class variable which is the arrest \n",
    "X = X.dropna()                  #dropping any NaNs"
   ]
  },
  {
   "cell_type": "code",
   "execution_count": 5,
   "metadata": {
    "collapsed": false
   },
   "outputs": [],
   "source": [
    "#This is one of the improvements that we applied on lab2 \n",
    "#Here, we're using *get_dummies* the correct way and after using get_dummies we save it in a column ! \n",
    "X_sex=pd.get_dummies(X.sex)\n",
    "X_sex=X_sex.astype(int)"
   ]
  },
  {
   "cell_type": "code",
   "execution_count": 6,
   "metadata": {
    "collapsed": false
   },
   "outputs": [],
   "source": [
    "#For the one-hot-encoding we implements the race feature \n",
    "X_race=pd.get_dummies(X.race)\n",
    "X_race=X_race.astype(int)\n",
    "#We're trying to be consistent with the datatype selection since we had some issues with different data types when we were trying to perform the prediction,\n",
    "#int64 and int32 were both present but incompatible, therefore we are implementing the int datatype on all the integer variables."
   ]
  },
  {
   "cell_type": "code",
   "execution_count": 7,
   "metadata": {
    "collapsed": false
   },
   "outputs": [
    {
     "name": "stdout",
     "output_type": "stream",
     "text": [
      "<class 'pandas.core.frame.DataFrame'>\n",
      "Int64Index: 529477 entries, 0 to 529476\n",
      "Data columns (total 8 columns):\n",
      "1    529477 non-null int32\n",
      "A    529477 non-null int32\n",
      "B    529477 non-null int32\n",
      "P    529477 non-null int32\n",
      "Q    529477 non-null int32\n",
      "U    529477 non-null int32\n",
      "W    529477 non-null int32\n",
      "Z    529477 non-null int32\n",
      "dtypes: int32(8)\n",
      "memory usage: 20.2 MB\n"
     ]
    }
   ],
   "source": [
    "X_race.info() \n",
    "#Note that the race value of \"1\" is actually the race \"I\" in the specifications file, which is American Indian/Alaskan Native "
   ]
  },
  {
   "cell_type": "code",
   "execution_count": 8,
   "metadata": {
    "collapsed": false
   },
   "outputs": [],
   "source": [
    "#For the precinct under which the frisk/search was conducted\n",
    "\n",
    "X_pct=pd.get_dummies(X.pct)\n",
    "X_pct=X.pct\n",
    "\n",
    "#Note: When we used this in our dataset the Deep Neural Network couldn't come up with the prediction in hours and our \n",
    "#Jupyter Notebooks and Python crashed. I think that the problem is that it is a huge feature (123 columns)\n",
    "#Even after using one-hot-encoding or hashing it, it still is too big for our limited resoruces. \n",
    "#We will not touch it until we perform all of the required tasks, and afterwards if we have time, we can stick it back \n",
    "#in and run the proposed architectures. \n",
    "#We will check if they converge and come up with more solutions, optimum weights, and eventually a prediction."
   ]
  },
  {
   "cell_type": "code",
   "execution_count": 9,
   "metadata": {
    "collapsed": true
   },
   "outputs": [],
   "source": [
    "X_age=X.age\n",
    "X_perobs=X.perobs\n",
    "X_rfattir=X.rf_attir\n",
    "X_searched=X.searched\n",
    "X_frisked=X.frisked\n",
    "X_offunif=X.offunif\n",
    "X_pistol=X.pistol\n",
    "X_contrabn=X.contrabn\n",
    "X_arstmade=X.arstmade"
   ]
  },
  {
   "cell_type": "code",
   "execution_count": 10,
   "metadata": {
    "collapsed": false
   },
   "outputs": [
    {
     "data": {
      "text/html": [
       "<div>\n",
       "<table border=\"1\" class=\"dataframe\">\n",
       "  <thead>\n",
       "    <tr style=\"text-align: right;\">\n",
       "      <th></th>\n",
       "      <th>1</th>\n",
       "      <th>A</th>\n",
       "      <th>B</th>\n",
       "      <th>P</th>\n",
       "      <th>Q</th>\n",
       "      <th>U</th>\n",
       "      <th>W</th>\n",
       "      <th>Z</th>\n",
       "      <th>F</th>\n",
       "      <th>M</th>\n",
       "      <th>Z</th>\n",
       "      <th>age</th>\n",
       "      <th>perobs</th>\n",
       "      <th>rf_attir</th>\n",
       "      <th>searched</th>\n",
       "      <th>frisked</th>\n",
       "      <th>offunif</th>\n",
       "      <th>pistol</th>\n",
       "      <th>contrabn</th>\n",
       "      <th>arstmade</th>\n",
       "    </tr>\n",
       "  </thead>\n",
       "  <tbody>\n",
       "    <tr>\n",
       "      <th>0</th>\n",
       "      <td>0</td>\n",
       "      <td>0</td>\n",
       "      <td>1</td>\n",
       "      <td>0</td>\n",
       "      <td>0</td>\n",
       "      <td>0</td>\n",
       "      <td>0</td>\n",
       "      <td>0</td>\n",
       "      <td>0</td>\n",
       "      <td>1</td>\n",
       "      <td>0</td>\n",
       "      <td>32</td>\n",
       "      <td>1</td>\n",
       "      <td>0</td>\n",
       "      <td>0</td>\n",
       "      <td>0</td>\n",
       "      <td>0</td>\n",
       "      <td>0</td>\n",
       "      <td>0</td>\n",
       "      <td>0</td>\n",
       "    </tr>\n",
       "    <tr>\n",
       "      <th>1</th>\n",
       "      <td>0</td>\n",
       "      <td>0</td>\n",
       "      <td>0</td>\n",
       "      <td>0</td>\n",
       "      <td>1</td>\n",
       "      <td>0</td>\n",
       "      <td>0</td>\n",
       "      <td>0</td>\n",
       "      <td>1</td>\n",
       "      <td>0</td>\n",
       "      <td>0</td>\n",
       "      <td>31</td>\n",
       "      <td>1</td>\n",
       "      <td>0</td>\n",
       "      <td>0</td>\n",
       "      <td>1</td>\n",
       "      <td>1</td>\n",
       "      <td>0</td>\n",
       "      <td>0</td>\n",
       "      <td>1</td>\n",
       "    </tr>\n",
       "    <tr>\n",
       "      <th>2</th>\n",
       "      <td>0</td>\n",
       "      <td>0</td>\n",
       "      <td>1</td>\n",
       "      <td>0</td>\n",
       "      <td>0</td>\n",
       "      <td>0</td>\n",
       "      <td>0</td>\n",
       "      <td>0</td>\n",
       "      <td>1</td>\n",
       "      <td>0</td>\n",
       "      <td>0</td>\n",
       "      <td>31</td>\n",
       "      <td>3</td>\n",
       "      <td>0</td>\n",
       "      <td>0</td>\n",
       "      <td>0</td>\n",
       "      <td>1</td>\n",
       "      <td>0</td>\n",
       "      <td>0</td>\n",
       "      <td>0</td>\n",
       "    </tr>\n",
       "    <tr>\n",
       "      <th>3</th>\n",
       "      <td>0</td>\n",
       "      <td>0</td>\n",
       "      <td>1</td>\n",
       "      <td>0</td>\n",
       "      <td>0</td>\n",
       "      <td>0</td>\n",
       "      <td>0</td>\n",
       "      <td>0</td>\n",
       "      <td>0</td>\n",
       "      <td>1</td>\n",
       "      <td>0</td>\n",
       "      <td>29</td>\n",
       "      <td>2</td>\n",
       "      <td>0</td>\n",
       "      <td>0</td>\n",
       "      <td>0</td>\n",
       "      <td>1</td>\n",
       "      <td>0</td>\n",
       "      <td>0</td>\n",
       "      <td>0</td>\n",
       "    </tr>\n",
       "    <tr>\n",
       "      <th>4</th>\n",
       "      <td>0</td>\n",
       "      <td>0</td>\n",
       "      <td>1</td>\n",
       "      <td>0</td>\n",
       "      <td>0</td>\n",
       "      <td>0</td>\n",
       "      <td>0</td>\n",
       "      <td>0</td>\n",
       "      <td>0</td>\n",
       "      <td>1</td>\n",
       "      <td>0</td>\n",
       "      <td>26</td>\n",
       "      <td>1</td>\n",
       "      <td>0</td>\n",
       "      <td>0</td>\n",
       "      <td>0</td>\n",
       "      <td>0</td>\n",
       "      <td>0</td>\n",
       "      <td>0</td>\n",
       "      <td>0</td>\n",
       "    </tr>\n",
       "  </tbody>\n",
       "</table>\n",
       "</div>"
      ],
      "text/plain": [
       "   1  A  B  P  Q  U  W  Z  F  M  Z  age  perobs  rf_attir  searched  frisked  \\\n",
       "0  0  0  1  0  0  0  0  0  0  1  0   32       1         0         0        0   \n",
       "1  0  0  0  0  1  0  0  0  1  0  0   31       1         0         0        1   \n",
       "2  0  0  1  0  0  0  0  0  1  0  0   31       3         0         0        0   \n",
       "3  0  0  1  0  0  0  0  0  0  1  0   29       2         0         0        0   \n",
       "4  0  0  1  0  0  0  0  0  0  1  0   26       1         0         0        0   \n",
       "\n",
       "   offunif  pistol  contrabn  arstmade  \n",
       "0        0       0         0         0  \n",
       "1        1       0         0         1  \n",
       "2        1       0         0         0  \n",
       "3        1       0         0         0  \n",
       "4        0       0         0         0  "
      ]
     },
     "execution_count": 10,
     "metadata": {},
     "output_type": "execute_result"
    }
   ],
   "source": [
    "#Concatinating all feature columns together \n",
    "#Note that from an architecture point of view, we wanted our feature inputs to be in one concatenated variable which will then be fed to our network \n",
    "X_all = pd.concat((X_race,X_sex,X_age,X_perobs,X_rfattir,X_searched,X_frisked,X_offunif,X_pistol,X_contrabn,X_arstmade)\n",
    "                  ,axis=1)\n",
    "X_all.head()\n",
    "#Now, all our features have been concatenated in one big X_all "
   ]
  },
  {
   "cell_type": "code",
   "execution_count": 11,
   "metadata": {
    "collapsed": false
   },
   "outputs": [
    {
     "name": "stdout",
     "output_type": "stream",
     "text": [
      "<class 'pandas.core.frame.DataFrame'>\n",
      "Int64Index: 529477 entries, 0 to 529476\n",
      "Data columns (total 20 columns):\n",
      "1           529477 non-null int32\n",
      "A           529477 non-null int32\n",
      "B           529477 non-null int32\n",
      "P           529477 non-null int32\n",
      "Q           529477 non-null int32\n",
      "U           529477 non-null int32\n",
      "W           529477 non-null int32\n",
      "Z           529477 non-null int32\n",
      "F           529477 non-null int32\n",
      "M           529477 non-null int32\n",
      "Z           529477 non-null int32\n",
      "age         529477 non-null int32\n",
      "perobs      529477 non-null int32\n",
      "rf_attir    529477 non-null int32\n",
      "searched    529477 non-null int32\n",
      "frisked     529477 non-null int32\n",
      "offunif     529477 non-null int32\n",
      "pistol      529477 non-null int32\n",
      "contrabn    529477 non-null int32\n",
      "arstmade    529477 non-null int32\n",
      "dtypes: int32(20)\n",
      "memory usage: 44.4 MB\n"
     ]
    }
   ],
   "source": [
    "X_all=X_all.astype(int)\n",
    "X_all.info() #Verifying the data types of our X_all variable."
   ]
  },
  {
   "cell_type": "code",
   "execution_count": 12,
   "metadata": {
    "collapsed": false
   },
   "outputs": [
    {
     "name": "stdout",
     "output_type": "stream",
     "text": [
      "(529477, 20)\n",
      "<class 'pandas.core.frame.DataFrame'>\n",
      "Int64Index: 529477 entries, 0 to 529476\n",
      "Data columns (total 20 columns):\n",
      "1           529477 non-null int32\n",
      "A           529477 non-null int32\n",
      "B           529477 non-null int32\n",
      "P           529477 non-null int32\n",
      "Q           529477 non-null int32\n",
      "U           529477 non-null int32\n",
      "W           529477 non-null int32\n",
      "Z           529477 non-null int32\n",
      "F           529477 non-null int32\n",
      "M           529477 non-null int32\n",
      "Z           529477 non-null int32\n",
      "age         529477 non-null int32\n",
      "perobs      529477 non-null int32\n",
      "rf_attir    529477 non-null int32\n",
      "searched    529477 non-null int32\n",
      "frisked     529477 non-null int32\n",
      "offunif     529477 non-null int32\n",
      "pistol      529477 non-null int32\n",
      "contrabn    529477 non-null int32\n",
      "arstmade    529477 non-null int32\n",
      "dtypes: int32(20)\n",
      "memory usage: 44.4 MB\n"
     ]
    }
   ],
   "source": [
    "print(X_all.shape) #We have 529477 rows and 20 coloumns now. X_all is our dataset as we had indicated above.  \n",
    "X_all.info()"
   ]
  },
  {
   "cell_type": "code",
   "execution_count": 62,
   "metadata": {
    "collapsed": false
   },
   "outputs": [
    {
     "name": "stdout",
     "output_type": "stream",
     "text": [
      "Wall time: 0 ns\n",
      "Time taken for this cell\n"
     ]
    }
   ],
   "source": [
    "#To create our model and start working with our proposed Deep Neural Networks,\n",
    "# we will import tensorflow as tf and also import the layers and learn which we will use for our architectures \n",
    "%time a = \"Time taken for this cell\"\n",
    "import tensorflow as tf\n",
    "import numpy as np\n",
    "from tensorflow.contrib import layers\n",
    "from tensorflow.contrib import learn\n",
    "print(a)"
   ]
  },
  {
   "cell_type": "code",
   "execution_count": 14,
   "metadata": {
    "collapsed": false
   },
   "outputs": [],
   "source": [
    "#Now, we will split our dataset into training and testing, 80% will be used for testing and 20% for training. \n",
    "from sklearn.model_selection import train_test_split\n",
    "X_train, X_test, y_train, y_test = train_test_split(X_all.values, y.values, test_size=0.8, random_state=42)"
   ]
  },
  {
   "cell_type": "markdown",
   "metadata": {},
   "source": [
    "### * *Dividing the data (as in Lab2)\n",
    "We choose the hold-out method because our dataset is large enough making the 30%-70% test split more suited to the hold-out method. K-fold is computationally expensive for a dataset of our size compared to hold-out method. "
   ]
  },
  {
   "cell_type": "markdown",
   "metadata": {
    "collapsed": false
   },
   "source": [
    "### Performance Evaluation Metrics:\n",
    "\n",
    "Accuracy is very deceiving when it comes to evaluating models, especially when you have a class imbalance problem. \n",
    "Therefore, we chose the following performance evaluation metrics:\n",
    "\n",
    "1. **Confusion Matrix**: We used the confusion matrix to see the number of true positives and false positives as well as \n",
    "the false positives and false negatives in our classifiers.\n",
    "2. **Area Under the Curve**: We used the value of the area under the ROC (Receiver Operating Characteristics) curve as an indication of how good our model is. This is a good way of evaluating the classifier since we  mostly care about the\n",
    "true positives and false positives in our project. \n",
    "    * **True Positive (TP)** means that a person who is arrested we predicted that they should be arrested, this is good because it reduces the possibility of racial bias by the police and ensures that bad people are in jail.\n",
    "    * Also, **False Positives (FP)** are very important since we care about not arresting people who don't deserve to be arrested! \n",
    "    * True Positive and False Positive rates are used and the calculated area under the curve is one of our main metrics. The higher the area under the curve the better. The closer to 1 (ideal ROC) is the better.\n",
    "3. **Cost Sensitive Measures**: We also used Precision, Recall, F-1, and Support measures to evaluate our classifier models. \n",
    "    * Higher precision at the specific class means lower false positives which as we explained, is a very important indicator. \n",
    "    * Also, Recall is used to indicate how are our false negative predictions, where a higher recall means a lower false negative, which is good for our case. \n",
    "    * F1 is an indication of both, this means that a higher F1 means lower FP and FN which we care about in our classifiers. \n",
    "    As mentioned by Dr. Eric in Lab2's comment, F1 is probably the best candidate for how well our model is performing\n",
    "    * Support is the number of occurrences of each class in the actual data and we can use it to indicate how many times we predicted right.\n",
    "4. **Accuracy** is not used as an actual performance evaluation metric. In Lab2, We just used it as an initial evaluation metric and compared it to the accuracy of our 'Base Rate Model' that predicted zero arrests were made on all people and we showed that\n",
    "for a class imbalanced problem, accuracy is definitely not a performance metric. "
   ]
  },
  {
   "cell_type": "markdown",
   "metadata": {},
   "source": [
    "###  Test Architecture:\n",
    "In Lab2, we created a base model that made a prediction that all people were not arrested and it was 94% accurate, which made it clear that accuracy is not our performance evaluation metric of course. We used this model as a baseline to compare it with the other models we had created. We will do the same thing here; we will create a test architecture that was arbitrarly chosen and see its prediction performance on our dataset. Later, when we look at our proposed Deep Neural Network Architectures, we will compare it with this base model."
   ]
  },
  {
   "cell_type": "code",
   "execution_count": 15,
   "metadata": {
    "collapsed": true
   },
   "outputs": [],
   "source": [
    "import tensorflow.contrib.learn as skflow"
   ]
  },
  {
   "cell_type": "code",
   "execution_count": 75,
   "metadata": {
    "collapsed": false
   },
   "outputs": [
    {
     "name": "stdout",
     "output_type": "stream",
     "text": [
      "WARNING:tensorflow:Using temporary folder as model directory: C:\\Users\\INSTAL~1.15-\\AppData\\Local\\Temp\\tmppvefcuq5\n"
     ]
    },
    {
     "name": "stderr",
     "output_type": "stream",
     "text": [
      "WARNING:tensorflow:Using temporary folder as model directory: C:\\Users\\INSTAL~1.15-\\AppData\\Local\\Temp\\tmppvefcuq5\n"
     ]
    },
    {
     "name": "stdout",
     "output_type": "stream",
     "text": [
      "INFO:tensorflow:Using default config.\n"
     ]
    },
    {
     "name": "stderr",
     "output_type": "stream",
     "text": [
      "INFO:tensorflow:Using default config.\n"
     ]
    },
    {
     "name": "stdout",
     "output_type": "stream",
     "text": [
      "INFO:tensorflow:Using config: {'_evaluation_master': '', 'save_summary_steps': 100, 'tf_random_seed': None, 'tf_config': gpu_options {\n",
      "  per_process_gpu_memory_fraction: 1\n",
      "}\n",
      ", 'save_checkpoints_steps': None, '_environment': 'local', '_cluster_spec': <tensorflow.python.training.server_lib.ClusterSpec object at 0x0000000037A94320>, 'keep_checkpoint_every_n_hours': 10000, '_task_id': 0, 'save_checkpoints_secs': 600, '_task_type': None, '_num_ps_replicas': 0, '_is_chief': True, '_master': '', 'keep_checkpoint_max': 5}\n"
     ]
    },
    {
     "name": "stderr",
     "output_type": "stream",
     "text": [
      "INFO:tensorflow:Using config: {'_evaluation_master': '', 'save_summary_steps': 100, 'tf_random_seed': None, 'tf_config': gpu_options {\n",
      "  per_process_gpu_memory_fraction: 1\n",
      "}\n",
      ", 'save_checkpoints_steps': None, '_environment': 'local', '_cluster_spec': <tensorflow.python.training.server_lib.ClusterSpec object at 0x0000000037A94320>, 'keep_checkpoint_every_n_hours': 10000, '_task_id': 0, 'save_checkpoints_secs': 600, '_task_type': None, '_num_ps_replicas': 0, '_is_chief': True, '_master': '', 'keep_checkpoint_max': 5}\n"
     ]
    },
    {
     "name": "stdout",
     "output_type": "stream",
     "text": [
      "WARNING:tensorflow:From <ipython-input-75-b6e2f580e127>:25 in <module>.: calling BaseEstimator.fit (from tensorflow.contrib.learn.python.learn.estimators.estimator) with x is deprecated and will be removed after 2016-12-01.\n",
      "Instructions for updating:\n",
      "Estimator is decoupled from Scikit Learn interface by moving into\n",
      "separate class SKCompat. Arguments x, y and batch_size are only\n",
      "available in the SKCompat class, Estimator will only accept input_fn.\n",
      "Example conversion:\n",
      "  est = Estimator(...) -> est = SKCompat(Estimator(...))\n"
     ]
    },
    {
     "name": "stderr",
     "output_type": "stream",
     "text": [
      "WARNING:tensorflow:From <ipython-input-75-b6e2f580e127>:25 in <module>.: calling BaseEstimator.fit (from tensorflow.contrib.learn.python.learn.estimators.estimator) with x is deprecated and will be removed after 2016-12-01.\n",
      "Instructions for updating:\n",
      "Estimator is decoupled from Scikit Learn interface by moving into\n",
      "separate class SKCompat. Arguments x, y and batch_size are only\n",
      "available in the SKCompat class, Estimator will only accept input_fn.\n",
      "Example conversion:\n",
      "  est = Estimator(...) -> est = SKCompat(Estimator(...))\n"
     ]
    },
    {
     "name": "stdout",
     "output_type": "stream",
     "text": [
      "WARNING:tensorflow:From <ipython-input-75-b6e2f580e127>:25 in <module>.: calling BaseEstimator.fit (from tensorflow.contrib.learn.python.learn.estimators.estimator) with y is deprecated and will be removed after 2016-12-01.\n",
      "Instructions for updating:\n",
      "Estimator is decoupled from Scikit Learn interface by moving into\n",
      "separate class SKCompat. Arguments x, y and batch_size are only\n",
      "available in the SKCompat class, Estimator will only accept input_fn.\n",
      "Example conversion:\n",
      "  est = Estimator(...) -> est = SKCompat(Estimator(...))\n"
     ]
    },
    {
     "name": "stderr",
     "output_type": "stream",
     "text": [
      "WARNING:tensorflow:From <ipython-input-75-b6e2f580e127>:25 in <module>.: calling BaseEstimator.fit (from tensorflow.contrib.learn.python.learn.estimators.estimator) with y is deprecated and will be removed after 2016-12-01.\n",
      "Instructions for updating:\n",
      "Estimator is decoupled from Scikit Learn interface by moving into\n",
      "separate class SKCompat. Arguments x, y and batch_size are only\n",
      "available in the SKCompat class, Estimator will only accept input_fn.\n",
      "Example conversion:\n",
      "  est = Estimator(...) -> est = SKCompat(Estimator(...))\n"
     ]
    },
    {
     "name": "stdout",
     "output_type": "stream",
     "text": [
      "Tensor(\"input:0\", shape=(?, 20), dtype=float32)\n",
      "WARNING:tensorflow:From C:\\Program Files\\Anaconda3\\lib\\site-packages\\tensorflow\\contrib\\learn\\python\\learn\\models.py:175 in logistic_regression.: softmax_classifier (from tensorflow.contrib.learn.python.learn.ops.losses_ops) is deprecated and will be removed after 2016-12-01.\n",
      "Instructions for updating:\n",
      "Use `tf.contrib.losses.softmax_cross_entropy` and explicit logits computation.\n"
     ]
    },
    {
     "name": "stderr",
     "output_type": "stream",
     "text": [
      "WARNING:tensorflow:From C:\\Program Files\\Anaconda3\\lib\\site-packages\\tensorflow\\contrib\\learn\\python\\learn\\models.py:175 in logistic_regression.: softmax_classifier (from tensorflow.contrib.learn.python.learn.ops.losses_ops) is deprecated and will be removed after 2016-12-01.\n",
      "Instructions for updating:\n",
      "Use `tf.contrib.losses.softmax_cross_entropy` and explicit logits computation.\n"
     ]
    },
    {
     "name": "stdout",
     "output_type": "stream",
     "text": [
      "INFO:tensorflow:Create CheckpointSaverHook.\n"
     ]
    },
    {
     "name": "stderr",
     "output_type": "stream",
     "text": [
      "INFO:tensorflow:Create CheckpointSaverHook.\n"
     ]
    },
    {
     "name": "stdout",
     "output_type": "stream",
     "text": [
      "INFO:tensorflow:step = 1, loss = 0.693204\n"
     ]
    },
    {
     "name": "stderr",
     "output_type": "stream",
     "text": [
      "INFO:tensorflow:step = 1, loss = 0.693204\n"
     ]
    },
    {
     "name": "stdout",
     "output_type": "stream",
     "text": [
      "INFO:tensorflow:Saving checkpoints for 1 into C:\\Users\\INSTAL~1.15-\\AppData\\Local\\Temp\\tmppvefcuq5\\model.ckpt.\n"
     ]
    },
    {
     "name": "stderr",
     "output_type": "stream",
     "text": [
      "INFO:tensorflow:Saving checkpoints for 1 into C:\\Users\\INSTAL~1.15-\\AppData\\Local\\Temp\\tmppvefcuq5\\model.ckpt.\n"
     ]
    },
    {
     "name": "stdout",
     "output_type": "stream",
     "text": [
      "WARNING:tensorflow:*******************************************************\n"
     ]
    },
    {
     "name": "stderr",
     "output_type": "stream",
     "text": [
      "WARNING:tensorflow:*******************************************************\n"
     ]
    },
    {
     "name": "stdout",
     "output_type": "stream",
     "text": [
      "WARNING:tensorflow:TensorFlow's V1 checkpoint format has been deprecated.\n"
     ]
    },
    {
     "name": "stderr",
     "output_type": "stream",
     "text": [
      "WARNING:tensorflow:TensorFlow's V1 checkpoint format has been deprecated.\n"
     ]
    },
    {
     "name": "stdout",
     "output_type": "stream",
     "text": [
      "WARNING:tensorflow:Consider switching to the more efficient V2 format:\n"
     ]
    },
    {
     "name": "stderr",
     "output_type": "stream",
     "text": [
      "WARNING:tensorflow:Consider switching to the more efficient V2 format:\n"
     ]
    },
    {
     "name": "stdout",
     "output_type": "stream",
     "text": [
      "WARNING:tensorflow:   `tf.train.Saver(write_version=tf.train.SaverDef.V2)`\n"
     ]
    },
    {
     "name": "stderr",
     "output_type": "stream",
     "text": [
      "WARNING:tensorflow:   `tf.train.Saver(write_version=tf.train.SaverDef.V2)`\n"
     ]
    },
    {
     "name": "stdout",
     "output_type": "stream",
     "text": [
      "WARNING:tensorflow:now on by default.\n"
     ]
    },
    {
     "name": "stderr",
     "output_type": "stream",
     "text": [
      "WARNING:tensorflow:now on by default.\n"
     ]
    },
    {
     "name": "stdout",
     "output_type": "stream",
     "text": [
      "WARNING:tensorflow:*******************************************************\n"
     ]
    },
    {
     "name": "stderr",
     "output_type": "stream",
     "text": [
      "WARNING:tensorflow:*******************************************************\n"
     ]
    },
    {
     "name": "stdout",
     "output_type": "stream",
     "text": [
      "INFO:tensorflow:Saving checkpoints for 10 into C:\\Users\\INSTAL~1.15-\\AppData\\Local\\Temp\\tmppvefcuq5\\model.ckpt.\n"
     ]
    },
    {
     "name": "stderr",
     "output_type": "stream",
     "text": [
      "INFO:tensorflow:Saving checkpoints for 10 into C:\\Users\\INSTAL~1.15-\\AppData\\Local\\Temp\\tmppvefcuq5\\model.ckpt.\n"
     ]
    },
    {
     "name": "stdout",
     "output_type": "stream",
     "text": [
      "WARNING:tensorflow:*******************************************************\n"
     ]
    },
    {
     "name": "stderr",
     "output_type": "stream",
     "text": [
      "WARNING:tensorflow:*******************************************************\n"
     ]
    },
    {
     "name": "stdout",
     "output_type": "stream",
     "text": [
      "WARNING:tensorflow:TensorFlow's V1 checkpoint format has been deprecated.\n"
     ]
    },
    {
     "name": "stderr",
     "output_type": "stream",
     "text": [
      "WARNING:tensorflow:TensorFlow's V1 checkpoint format has been deprecated.\n"
     ]
    },
    {
     "name": "stdout",
     "output_type": "stream",
     "text": [
      "WARNING:tensorflow:Consider switching to the more efficient V2 format:\n"
     ]
    },
    {
     "name": "stderr",
     "output_type": "stream",
     "text": [
      "WARNING:tensorflow:Consider switching to the more efficient V2 format:\n"
     ]
    },
    {
     "name": "stdout",
     "output_type": "stream",
     "text": [
      "WARNING:tensorflow:   `tf.train.Saver(write_version=tf.train.SaverDef.V2)`\n"
     ]
    },
    {
     "name": "stderr",
     "output_type": "stream",
     "text": [
      "WARNING:tensorflow:   `tf.train.Saver(write_version=tf.train.SaverDef.V2)`\n"
     ]
    },
    {
     "name": "stdout",
     "output_type": "stream",
     "text": [
      "WARNING:tensorflow:now on by default.\n"
     ]
    },
    {
     "name": "stderr",
     "output_type": "stream",
     "text": [
      "WARNING:tensorflow:now on by default.\n"
     ]
    },
    {
     "name": "stdout",
     "output_type": "stream",
     "text": [
      "WARNING:tensorflow:*******************************************************\n"
     ]
    },
    {
     "name": "stderr",
     "output_type": "stream",
     "text": [
      "WARNING:tensorflow:*******************************************************\n"
     ]
    },
    {
     "name": "stdout",
     "output_type": "stream",
     "text": [
      "INFO:tensorflow:Loss for final step: 0.258725.\n"
     ]
    },
    {
     "name": "stderr",
     "output_type": "stream",
     "text": [
      "INFO:tensorflow:Loss for final step: 0.258725.\n"
     ]
    },
    {
     "data": {
      "text/plain": [
       "Estimator(params=None)"
      ]
     },
     "execution_count": 75,
     "metadata": {},
     "output_type": "execute_result"
    }
   ],
   "source": [
    "#Test Architecture/Dump Architecture\n",
    "#arbitrary number of layers and hidden neurons, also, we chose only one ReLU activation function and one logistic regression \n",
    "\n",
    "import tensorflow as tf\n",
    "import numpy as np\n",
    "from tensorflow.contrib import layers\n",
    "from tensorflow.contrib import learn\n",
    "def my_model(features, target):\n",
    "    print(features)\n",
    "    target = tf.one_hot(target,2,1,0) \n",
    "    #One hot encoding the output as it is a binary output, a 1 or 0 \n",
    "    features = layers.stack(features, layers.fully_connected, [10, 20, 10]) \n",
    "    #Sticking the input to 3 hidden layers with 10, 20, and 10 neurons\n",
    "    features = tf.nn.relu(features) \n",
    "    #Then passing it through a ReLU function \n",
    "    prediction, loss = (\n",
    "        tf.contrib.learn.models.logistic_regression_zero_init(features, target) \n",
    "        #and then throught a Logistic Regression function\n",
    "    )\n",
    "    train_op = tf.contrib.layers.optimize_loss(\n",
    "        loss, tf.contrib.framework.get_global_step(), optimizer='Adagrad',\n",
    "        learning_rate=0.1)\n",
    "    return {'class': tf.argmax(prediction, 1), 'prob': prediction}, loss, train_op\n",
    "classifier = learn.Estimator(model_fn=my_model)\n",
    "\n",
    "classifier.fit(X_train.astype(np.float32), y_train.astype(np.int64), steps=10)\n",
    "#Increased numb of steps this helped to reduce the final loss (important observation)"
   ]
  },
  {
   "cell_type": "code",
   "execution_count": 18,
   "metadata": {
    "collapsed": false
   },
   "outputs": [
    {
     "name": "stdout",
     "output_type": "stream",
     "text": [
      "WARNING:tensorflow:From <ipython-input-18-1ab24d1842c1>:3 in <module>.: calling BaseEstimator.predict (from tensorflow.contrib.learn.python.learn.estimators.estimator) with x is deprecated and will be removed after 2016-12-01.\n",
      "Instructions for updating:\n",
      "Estimator is decoupled from Scikit Learn interface by moving into\n",
      "separate class SKCompat. Arguments x, y and batch_size are only\n",
      "available in the SKCompat class, Estimator will only accept input_fn.\n",
      "Example conversion:\n",
      "  est = Estimator(...) -> est = SKCompat(Estimator(...))\n",
      "WARNING:tensorflow:From <ipython-input-18-1ab24d1842c1>:3 in <module>.: calling BaseEstimator.predict (from tensorflow.contrib.learn.python.learn.estimators.estimator) with as_iterable is deprecated and will be removed after 2016-12-01.\n",
      "Instructions for updating:\n",
      "Estimator is decoupled from Scikit Learn interface by moving into\n",
      "separate class SKCompat. Arguments x, y and batch_size are only\n",
      "available in the SKCompat class, Estimator will only accept input_fn.\n",
      "Example conversion:\n",
      "  est = Estimator(...) -> est = SKCompat(Estimator(...))\n",
      "Tensor(\"input:0\", shape=(?, 20), dtype=float32)\n",
      "WARNING:tensorflow:From C:\\Program Files\\Anaconda3\\lib\\site-packages\\tensorflow\\contrib\\learn\\python\\learn\\models.py:175 in logistic_regression.: softmax_classifier (from tensorflow.contrib.learn.python.learn.ops.losses_ops) is deprecated and will be removed after 2016-12-01.\n",
      "Instructions for updating:\n",
      "Use `tf.contrib.losses.softmax_cross_entropy` and explicit logits computation.\n",
      "INFO:tensorflow:Loading model from checkpoint: C:\\Users\\INSTAL~1.15-\\AppData\\Local\\Temp\\tmpnbz_aa95\\model.ckpt-10-?????-of-00001.\n",
      "0.939487513634\n"
     ]
    }
   ],
   "source": [
    "#Looking at the test architecture's accuracy score since we're being curious\n",
    "\n",
    "from sklearn import metrics\n",
    "yhat_dict =  list(classifier.predict(X_test.astype(np.float32),as_iterable=True))\n",
    "yhat = np.array([x['class'] for x in yhat_dict])\n",
    "\n",
    "score = metrics.accuracy_score(y_test.astype(np.int64),yhat)\n",
    "print(score)\n",
    "\n",
    "#The test architecture gave us a score of 93.9%, which is not significantn but remember and \n",
    "# this is not our performance evaluation metric! "
   ]
  },
  {
   "cell_type": "markdown",
   "metadata": {},
   "source": [
    "#### Performance of this Test DNN architecture: \n",
    "\n",
    "We will evaluate it based on exactly the same performance metrics as in Lab2 which have been mentioned anabove:\n",
    "\n",
    "* Confusion Matrix \n",
    "* F1 \n",
    "* Precision \n",
    "* Recall \n",
    "* Area Under the Curve (AUC)"
   ]
  },
  {
   "cell_type": "code",
   "execution_count": 19,
   "metadata": {
    "collapsed": false
   },
   "outputs": [
    {
     "name": "stdout",
     "output_type": "stream",
     "text": [
      " -- Confusion Matrix for the test DNN architecture -- \n",
      "  [[397950      0]\n",
      " [ 25632      0]]\n"
     ]
    }
   ],
   "source": [
    "from sklearn.metrics import confusion_matrix\n",
    "print(\" -- Confusion Matrix for the test DNN architecture -- \\n \", confusion_matrix(y_test, yhat))\n",
    "#As we can see, based on the output of this Confusion Matrix, we can see that this DNN architecture didn't learn and \n",
    "#couldn't optimize the weights\n",
    "#this is clear in the FP and TP since they are zero. It tells us that it couldn't figure out the arrests at all. \n",
    "#Of course this is expected! The number of hidden neurons is very small, also, the steps are only 10 which is not enough at all"
   ]
  },
  {
   "cell_type": "code",
   "execution_count": 20,
   "metadata": {
    "collapsed": false
   },
   "outputs": [
    {
     "name": "stdout",
     "output_type": "stream",
     "text": [
      "FirstDNN  AUC =0.50\n",
      "             precision    recall  f1-score   support\n",
      "\n",
      "          0       0.94      1.00      0.97    397950\n",
      "          1       0.00      0.00      0.00     25632\n",
      "\n",
      "avg / total       0.88      0.94      0.91    423582\n",
      "\n"
     ]
    },
    {
     "name": "stderr",
     "output_type": "stream",
     "text": [
      "C:\\Program Files\\Anaconda3\\lib\\site-packages\\sklearn\\metrics\\classification.py:1113: UndefinedMetricWarning: Precision and F-score are ill-defined and being set to 0.0 in labels with no predicted samples.\n",
      "  'precision', 'predicted', average, warn_for)\n"
     ]
    }
   ],
   "source": [
    "# Using the Area Under the Curve AUC metric \n",
    "from sklearn.metrics import roc_auc_score \n",
    "from sklearn.metrics import classification_report\n",
    "testDNN_roc_auc=roc_auc_score(y_test, yhat)\n",
    "print(\"FirstDNN  AUC =%2.2f\"%testDNN_roc_auc)\n",
    "print(classification_report(y_test, yhat) )"
   ]
  },
  {
   "cell_type": "markdown",
   "metadata": {},
   "source": [
    "#####  Comment \n",
    "As we can see from our TEST DNN Architecture, it didn't learn and thus gave very poor performance.\n",
    "\n",
    "We can see that our Area Under the Curve (AUC = 0.5) looks similar to a random model, and has 0 recall, precision, and F1 scores that could judge when arrests are made."
   ]
  },
  {
   "cell_type": "code",
   "execution_count": 21,
   "metadata": {
    "collapsed": true
   },
   "outputs": [],
   "source": [
    "#The ROC curve of this Test DNN Architecture \n",
    "from sklearn.metrics import roc_curve \n",
    "fpr, tpr, thresholds=roc_curve(y_test, yhat)\n",
    "#implementing the ROC curve "
   ]
  },
  {
   "cell_type": "code",
   "execution_count": 22,
   "metadata": {
    "collapsed": false
   },
   "outputs": [
    {
     "data": {
      "image/png": "[encoded data removed]",
      "text/plain": [
       "<matplotlib.figure.Figure at 0x3634ec18>"
      ]
     },
     "metadata": {},
     "output_type": "display_data"
    }
   ],
   "source": [
    "#Here we're plotting the ROC curve for the arrest class\n",
    "import matplotlib.pyplot as plt\n",
    "import warnings\n",
    "warnings.simplefilter('ignore', DeprecationWarning)\n",
    "%matplotlib inline\n",
    "plt.figure()\n",
    "plt.plot(fpr, tpr, label='ROC curve (area= %2.2f)' % testDNN_roc_auc)\n",
    "plt.plot([0,1],[0,1], 'k--')\n",
    "plt.xlim(0.0, 1.0)\n",
    "plt.ylim(0.0, 1.05)\n",
    "plt.xlabel(\"False Positive Rate\")\n",
    "plt.ylabel(\"True Positive Rate\")\n",
    "plt.title(\"Receiver Operating Characteristics Curve For The Test/Base DNN architecture\")\n",
    "plt.legend(loc=\"lower right\")\n",
    "plt.show()"
   ]
  },
  {
   "cell_type": "markdown",
   "metadata": {},
   "source": [
    "### Comments:\n",
    "As we can see here, our test/base neural network didn't learn as it is of very few hidden neurons and we only included 10 optimization steps which is certainly one of the main limitations and is not enough for the optimization process.  \n",
    "We believe that we can do much better if we implemented a deeper network with tuned hyper-parametes! "
   ]
  },
  {
   "cell_type": "markdown",
   "metadata": {
    "collapsed": true
   },
   "source": [
    "### First Architecture\n",
    "\n",
    "Comments on Number of Steps and its effect on loss\n",
    "\n",
    "In the test Deep NN Architecture and with only 10 steps, we had a loss of 0.259416\n",
    "\n",
    "In this Deep NN architecture and with 10 steps but deeper network we got a loss of 0.255247\n",
    "\n",
    "With this Deep NN architecture but with 50 steps, as you can see, we have a loss of 0.246822\n",
    "\n",
    "Let's see its accuracy just out of curiousity"
   ]
  },
  {
   "cell_type": "markdown",
   "metadata": {
    "collapsed": true
   },
   "source": [
    "### First Deep Neural Network Architecture \n",
    "\n",
    "###  * Architecture Source *\n",
    "\n",
    "**The following network architecture was created as a result of the following**:\n",
    "    \n",
    "1. **Meeting with Dr. Eric**: Mahmoud was recommended by Dr. Eric to use a fully connected layer right after the input layer and then right before the output to use a logistic regression, and some layers in between.\n",
    "2. **Google**: We looked at some of Google's papers in Deep Learning and we saw that they used 3 ReLUs in connected to each other in their youtube recommendation paper (given below) and we saw how they dramatically decreased the loss by more than 5% and how they wrote about how adding depth significantly improves precision on hold out data. \n"
   ]
  },
  {
   "cell_type": "code",
   "execution_count": 23,
   "metadata": {
    "collapsed": false
   },
   "outputs": [
    {
     "name": "stdout",
     "output_type": "stream",
     "text": [
      "WARNING:tensorflow:Using temporary folder as model directory: C:\\Users\\INSTAL~1.15-\\AppData\\Local\\Temp\\tmp5clfb0j5\n",
      "INFO:tensorflow:Using default config.\n",
      "INFO:tensorflow:Using config: {'_evaluation_master': '', 'save_summary_steps': 100, 'tf_random_seed': None, 'tf_config': gpu_options {\n",
      "  per_process_gpu_memory_fraction: 1\n",
      "}\n",
      ", 'save_checkpoints_steps': None, '_environment': 'local', '_cluster_spec': <tensorflow.python.training.server_lib.ClusterSpec object at 0x00000000364FEA90>, 'keep_checkpoint_every_n_hours': 10000, '_task_id': 0, 'save_checkpoints_secs': 600, '_task_type': None, '_num_ps_replicas': 0, '_is_chief': True, '_master': '', 'keep_checkpoint_max': 5}\n",
      "WARNING:tensorflow:From <ipython-input-23-a1fd5bebead5>:17 in <module>.: calling BaseEstimator.fit (from tensorflow.contrib.learn.python.learn.estimators.estimator) with x is deprecated and will be removed after 2016-12-01.\n",
      "Instructions for updating:\n",
      "Estimator is decoupled from Scikit Learn interface by moving into\n",
      "separate class SKCompat. Arguments x, y and batch_size are only\n",
      "available in the SKCompat class, Estimator will only accept input_fn.\n",
      "Example conversion:\n",
      "  est = Estimator(...) -> est = SKCompat(Estimator(...))\n",
      "WARNING:tensorflow:From <ipython-input-23-a1fd5bebead5>:17 in <module>.: calling BaseEstimator.fit (from tensorflow.contrib.learn.python.learn.estimators.estimator) with y is deprecated and will be removed after 2016-12-01.\n",
      "Instructions for updating:\n",
      "Estimator is decoupled from Scikit Learn interface by moving into\n",
      "separate class SKCompat. Arguments x, y and batch_size are only\n",
      "available in the SKCompat class, Estimator will only accept input_fn.\n",
      "Example conversion:\n",
      "  est = Estimator(...) -> est = SKCompat(Estimator(...))\n",
      "Tensor(\"input:0\", shape=(?, 20), dtype=float32)\n",
      "WARNING:tensorflow:From C:\\Program Files\\Anaconda3\\lib\\site-packages\\tensorflow\\contrib\\learn\\python\\learn\\models.py:175 in logistic_regression.: softmax_classifier (from tensorflow.contrib.learn.python.learn.ops.losses_ops) is deprecated and will be removed after 2016-12-01.\n",
      "Instructions for updating:\n",
      "Use `tf.contrib.losses.softmax_cross_entropy` and explicit logits computation.\n",
      "INFO:tensorflow:Create CheckpointSaverHook.\n",
      "INFO:tensorflow:step = 1, loss = 0.693204\n",
      "INFO:tensorflow:Saving checkpoints for 1 into C:\\Users\\INSTAL~1.15-\\AppData\\Local\\Temp\\tmp5clfb0j5\\model.ckpt.\n",
      "WARNING:tensorflow:*******************************************************\n",
      "WARNING:tensorflow:TensorFlow's V1 checkpoint format has been deprecated.\n",
      "WARNING:tensorflow:Consider switching to the more efficient V2 format:\n",
      "WARNING:tensorflow:   `tf.train.Saver(write_version=tf.train.SaverDef.V2)`\n",
      "WARNING:tensorflow:now on by default.\n",
      "WARNING:tensorflow:*******************************************************\n",
      "INFO:tensorflow:step = 101, loss = 0.16642\n",
      "INFO:tensorflow:global_step/sec: 0.772523\n",
      "INFO:tensorflow:Saving checkpoints for 200 into C:\\Users\\INSTAL~1.15-\\AppData\\Local\\Temp\\tmp5clfb0j5\\model.ckpt.\n",
      "WARNING:tensorflow:*******************************************************\n",
      "WARNING:tensorflow:TensorFlow's V1 checkpoint format has been deprecated.\n",
      "WARNING:tensorflow:Consider switching to the more efficient V2 format:\n",
      "WARNING:tensorflow:   `tf.train.Saver(write_version=tf.train.SaverDef.V2)`\n",
      "WARNING:tensorflow:now on by default.\n",
      "WARNING:tensorflow:*******************************************************\n",
      "INFO:tensorflow:Loss for final step: 0.0432277.\n"
     ]
    },
    {
     "data": {
      "text/plain": [
       "Estimator(params=None)"
      ]
     },
     "execution_count": 23,
     "metadata": {},
     "output_type": "execute_result"
    }
   ],
   "source": [
    "def my_model(features, target):\n",
    "    print(features)\n",
    "    target = tf.one_hot(target,2,1,0) #one hot encoding the output as it is a binary output, a 1 or 0 \n",
    "    features = layers.stack(features, layers.fully_connected, [300]) #we increased the number of neurons here\n",
    "    features = tf.nn.relu(features)#then passing it through a ReLU function \n",
    "    features = tf.nn.relu(features)#passing it through another ReLU\n",
    "    features = tf.nn.relu(features)#and a third ReLU\n",
    "    prediction, loss = (\n",
    "      tf.contrib.learn.models.logistic_regression_zero_init(features, target) #and then throught a Logistic Regression function\n",
    "    )\n",
    "    train_op = tf.contrib.layers.optimize_loss(\n",
    "      loss, tf.contrib.framework.get_global_step(), optimizer='Adagrad',\n",
    "      learning_rate=0.1)\n",
    "    return {'class': tf.argmax(prediction, 1), 'prob': prediction}, loss, train_op\n",
    "classifier = learn.Estimator(model_fn=my_model)\n",
    "\n",
    "classifier.fit(X_train.astype(np.float32), y_train.astype(np.int64), steps=200)#increased numb of steps, final loss decreased\n"
   ]
  },
  {
   "cell_type": "code",
   "execution_count": 24,
   "metadata": {
    "collapsed": false
   },
   "outputs": [
    {
     "name": "stdout",
     "output_type": "stream",
     "text": [
      "WARNING:tensorflow:From <ipython-input-24-fa7647fa485c>:1 in <module>.: calling BaseEstimator.predict (from tensorflow.contrib.learn.python.learn.estimators.estimator) with x is deprecated and will be removed after 2016-12-01.\n",
      "Instructions for updating:\n",
      "Estimator is decoupled from Scikit Learn interface by moving into\n",
      "separate class SKCompat. Arguments x, y and batch_size are only\n",
      "available in the SKCompat class, Estimator will only accept input_fn.\n",
      "Example conversion:\n",
      "  est = Estimator(...) -> est = SKCompat(Estimator(...))\n",
      "WARNING:tensorflow:From <ipython-input-24-fa7647fa485c>:1 in <module>.: calling BaseEstimator.predict (from tensorflow.contrib.learn.python.learn.estimators.estimator) with as_iterable is deprecated and will be removed after 2016-12-01.\n",
      "Instructions for updating:\n",
      "Estimator is decoupled from Scikit Learn interface by moving into\n",
      "separate class SKCompat. Arguments x, y and batch_size are only\n",
      "available in the SKCompat class, Estimator will only accept input_fn.\n",
      "Example conversion:\n",
      "  est = Estimator(...) -> est = SKCompat(Estimator(...))\n",
      "Tensor(\"input:0\", shape=(?, 20), dtype=float32)\n",
      "WARNING:tensorflow:From C:\\Program Files\\Anaconda3\\lib\\site-packages\\tensorflow\\contrib\\learn\\python\\learn\\models.py:175 in logistic_regression.: softmax_classifier (from tensorflow.contrib.learn.python.learn.ops.losses_ops) is deprecated and will be removed after 2016-12-01.\n",
      "Instructions for updating:\n",
      "Use `tf.contrib.losses.softmax_cross_entropy` and explicit logits computation.\n",
      "INFO:tensorflow:Loading model from checkpoint: C:\\Users\\INSTAL~1.15-\\AppData\\Local\\Temp\\tmp5clfb0j5\\model.ckpt-200-?????-of-00001.\n",
      "0.980136077548\n"
     ]
    }
   ],
   "source": [
    "yhat_dict =  list(classifier.predict(X_test.astype(np.float32),as_iterable=True))\n",
    "yhat = np.array([x['class'] for x in yhat_dict])\n",
    "\n",
    "score = metrics.accuracy_score(y_test.astype(np.int64),yhat)\n",
    "print(score)"
   ]
  },
  {
   "cell_type": "code",
   "execution_count": 25,
   "metadata": {
    "collapsed": false
   },
   "outputs": [
    {
     "name": "stdout",
     "output_type": "stream",
     "text": [
      " -- Confusion Matrix for the first DNN architecture -- \n",
      "  [[397949      1]\n",
      " [  8413  17219]]\n"
     ]
    }
   ],
   "source": [
    "#look at accuracy\n",
    "from sklearn.metrics import confusion_matrix\n",
    "print(\" -- Confusion Matrix for the first DNN architecture -- \\n \", confusion_matrix(y_test, yhat))"
   ]
  },
  {
   "cell_type": "code",
   "execution_count": 26,
   "metadata": {
    "collapsed": false
   },
   "outputs": [
    {
     "data": {
      "text/plain": [
       "(array([0, 1], dtype=int64), array([397950,  25632], dtype=int64))"
      ]
     },
     "execution_count": 26,
     "metadata": {},
     "output_type": "execute_result"
    }
   ],
   "source": [
    "np.unique(y_test,return_counts=True)"
   ]
  },
  {
   "cell_type": "code",
   "execution_count": 27,
   "metadata": {
    "collapsed": false
   },
   "outputs": [
    {
     "name": "stdout",
     "output_type": "stream",
     "text": [
      "First Deep NN AUC =0.84\n",
      "             precision    recall  f1-score   support\n",
      "\n",
      "          0       0.98      1.00      0.99    397950\n",
      "          1       1.00      0.67      0.80     25632\n",
      "\n",
      "avg / total       0.98      0.98      0.98    423582\n",
      "\n"
     ]
    }
   ],
   "source": [
    "from sklearn.metrics import roc_auc_score \n",
    "from sklearn.metrics import classification_report\n",
    "deep1_roc_auc=roc_auc_score(y_test, yhat)\n",
    "print(\"First Deep NN AUC =%2.2f\"%deep1_roc_auc)\n",
    "print(classification_report(y_test, yhat) )"
   ]
  },
  {
   "cell_type": "code",
   "execution_count": 28,
   "metadata": {
    "collapsed": false
   },
   "outputs": [
    {
     "data": {
      "image/png": "[encoded data removed]",
      "text/plain": [
       "<matplotlib.figure.Figure at 0x366c7a58>"
      ]
     },
     "metadata": {},
     "output_type": "display_data"
    }
   ],
   "source": [
    "import matplotlib.pyplot as plt\n",
    "from sklearn.metrics import roc_curve \n",
    "fpr, tpr, thresholds=roc_curve(y_test, yhat)\n",
    "import warnings\n",
    "warnings.simplefilter('ignore', DeprecationWarning)\n",
    "%matplotlib inline\n",
    "plt.figure()\n",
    "plt.plot(fpr, tpr, label='ROC curve (area= %2.2f)' % deep1_roc_auc)\n",
    "plt.plot([0,1],[0,1], 'k--')\n",
    "plt.xlim(0.0, 1.0)\n",
    "plt.ylim(0.0, 1.05)\n",
    "plt.xlabel(\"False Positive Rate\")\n",
    "plt.ylabel(\"True Positive Rate\")\n",
    "plt.title(\"Receiver Operating Characteristics Curve For The first DNN architecture\")\n",
    "plt.legend(loc=\"lower right\")\n",
    "plt.show()"
   ]
  },
  {
   "cell_type": "markdown",
   "metadata": {},
   "source": [
    "### Comments:\n",
    "This result was achieved after **tuning**  the following:\n",
    "\n",
    "    . The number of hidden neurons in the fully connected layer. We used on fully connected layer that is then fed to 3 layers \n",
    "     of ReLU functions and then to a logistic regression. As mentioned before, we used this architecture because we saw one paper from Google's research team where they used 3 ReLUs. Since we couldn't find blogs nor papers that deal with a similar dataset like ours, we chose this part of the architecture from them. And we came up with the idea of starting with a Fully Connected layer  and ending with a logistic regression before the output from a meeting with Dr. Eric and our understanding to our lectures.\n",
    "    \n",
    "    . The steps: we started with only 10 steps, which gave a very bad performance (almost a random 0.5 AUC model) then\n",
    "    we increased the number of steps until we reached 200 steps and it gave what we  consider good performance based on what\n",
    "    we use as performance metrics. \n",
    "So, basically we kept on changing these two parameters until we got this result that we felt comfortable with.\n",
    "This was done manually because we couldn't get GridSearch to work in our estmitaor. It kept on giving errors every time with \n",
    "whatever change we made for the parameters of the grid. \n",
    "\n",
    "We can notice the following from this Deep Neural Network Architecture:\n",
    "    1. Performance:\n",
    "    Overall, this architecture gave a good performance based on our performance evaluation metrics.\n",
    "    These performance metrics are:\n",
    "        - The highest Area Under the Curve we obtained was 0.86 which is better than what we got with logistic regression\n",
    "        in lab2 (we got 0.82 AUC in lab2 with logistic regression which was the highest performer). However, it is worth mentioning that everytime we run the code we slightly different result. Now as you can see we have an AUC of 0.83 \n",
    "        where before, we had AUC = 0.86 . \n",
    "        - Cost Sensitive Measures: We have high recall and high precision which indicates low false negatives and low false\n",
    "            positives respectively. These two metrics matter the most since we don't want to predict that someone should be \n",
    "            arrested when they are not supposed to be arrested, and, at the same time, we don't want to leave a person\n",
    "            free when they are supposed to be arrested. So, Recall and Precision are of very significant importance in our \n",
    "            evaluation, as well as F1 of course since it combines both, higher F1 means lower FN and FP.\n",
    "        - When we executed the code again, we had an AUC of 1 which indicates perfect performance and Recall, Precision =1\n",
    "          This is something that we need to investigate more to understand the reason behind it. \n",
    "     \n",
    "     2.Architecture and Computational Complexity:\n",
    "     As this network architecture is considered not very complex, it took quite a while to run and optimize the weights and \n",
    "     come up with the output layer. In the next architecture, we will go deeper, as we will add more layers and give the \n",
    "     optimizer more steps to try and come up with more accurate weights/results. \n"
   ]
  },
  {
   "cell_type": "markdown",
   "metadata": {
    "collapsed": true
   },
   "source": [
    "###  **GridSearch and Tuning The Hyper-Parameters**: \n",
    "\n",
    "As we mentioned above, we were not able to apply GridSearch for tuning the hyper-parameters, so, we had to do it manualy.\n",
    "    \n",
    "Let's do more tuning  and change the **number of hidden neurons** even more and this time we will change also the **learning\n",
    "rate** and the number of **steps**. We will choose a smaller value for the learning rate and a larger number of steps.\n",
    "Let's see and visualize the performance on the ROC curve and evaluate the performance:"
   ]
  },
  {
   "cell_type": "code",
   "execution_count": 49,
   "metadata": {
    "collapsed": true
   },
   "outputs": [],
   "source": [
    "#Let's choose the number of hidden neurons to be = 400 \n",
    "# learning rate = 0.05\n",
    "# number of steps = 300 \n",
    "\n",
    "\n",
    "#Remember we are still working on the first architecture. We are just tuning the hyper-parameters to see if we can \n",
    "#get better performance "
   ]
  },
  {
   "cell_type": "code",
   "execution_count": 29,
   "metadata": {
    "collapsed": false
   },
   "outputs": [
    {
     "name": "stdout",
     "output_type": "stream",
     "text": [
      "WARNING:tensorflow:Using temporary folder as model directory: C:\\Users\\INSTAL~1.15-\\AppData\\Local\\Temp\\tmpvwrkeust\n",
      "INFO:tensorflow:Using default config.\n",
      "INFO:tensorflow:Using config: {'_evaluation_master': '', 'save_summary_steps': 100, 'tf_random_seed': None, 'tf_config': gpu_options {\n",
      "  per_process_gpu_memory_fraction: 1\n",
      "}\n",
      ", 'save_checkpoints_steps': None, '_environment': 'local', '_cluster_spec': <tensorflow.python.training.server_lib.ClusterSpec object at 0x000000006782D080>, 'keep_checkpoint_every_n_hours': 10000, '_task_id': 0, 'save_checkpoints_secs': 600, '_task_type': None, '_num_ps_replicas': 0, '_is_chief': True, '_master': '', 'keep_checkpoint_max': 5}\n",
      "WARNING:tensorflow:From <ipython-input-29-02157d07162b>:17 in <module>.: calling BaseEstimator.fit (from tensorflow.contrib.learn.python.learn.estimators.estimator) with x is deprecated and will be removed after 2016-12-01.\n",
      "Instructions for updating:\n",
      "Estimator is decoupled from Scikit Learn interface by moving into\n",
      "separate class SKCompat. Arguments x, y and batch_size are only\n",
      "available in the SKCompat class, Estimator will only accept input_fn.\n",
      "Example conversion:\n",
      "  est = Estimator(...) -> est = SKCompat(Estimator(...))\n",
      "WARNING:tensorflow:From <ipython-input-29-02157d07162b>:17 in <module>.: calling BaseEstimator.fit (from tensorflow.contrib.learn.python.learn.estimators.estimator) with y is deprecated and will be removed after 2016-12-01.\n",
      "Instructions for updating:\n",
      "Estimator is decoupled from Scikit Learn interface by moving into\n",
      "separate class SKCompat. Arguments x, y and batch_size are only\n",
      "available in the SKCompat class, Estimator will only accept input_fn.\n",
      "Example conversion:\n",
      "  est = Estimator(...) -> est = SKCompat(Estimator(...))\n",
      "Tensor(\"input:0\", shape=(?, 20), dtype=float32)\n",
      "WARNING:tensorflow:From C:\\Program Files\\Anaconda3\\lib\\site-packages\\tensorflow\\contrib\\learn\\python\\learn\\models.py:175 in logistic_regression.: softmax_classifier (from tensorflow.contrib.learn.python.learn.ops.losses_ops) is deprecated and will be removed after 2016-12-01.\n",
      "Instructions for updating:\n",
      "Use `tf.contrib.losses.softmax_cross_entropy` and explicit logits computation.\n",
      "INFO:tensorflow:Create CheckpointSaverHook.\n",
      "INFO:tensorflow:step = 1, loss = 0.693204\n",
      "INFO:tensorflow:Saving checkpoints for 1 into C:\\Users\\INSTAL~1.15-\\AppData\\Local\\Temp\\tmpvwrkeust\\model.ckpt.\n",
      "WARNING:tensorflow:*******************************************************\n",
      "WARNING:tensorflow:TensorFlow's V1 checkpoint format has been deprecated.\n",
      "WARNING:tensorflow:Consider switching to the more efficient V2 format:\n",
      "WARNING:tensorflow:   `tf.train.Saver(write_version=tf.train.SaverDef.V2)`\n",
      "WARNING:tensorflow:now on by default.\n",
      "WARNING:tensorflow:*******************************************************\n",
      "INFO:tensorflow:step = 101, loss = 0.200355\n",
      "INFO:tensorflow:global_step/sec: 0.588763\n",
      "INFO:tensorflow:step = 201, loss = 0.101884\n",
      "INFO:tensorflow:global_step/sec: 0.604866\n",
      "INFO:tensorflow:Saving checkpoints for 300 into C:\\Users\\INSTAL~1.15-\\AppData\\Local\\Temp\\tmpvwrkeust\\model.ckpt.\n",
      "WARNING:tensorflow:*******************************************************\n",
      "WARNING:tensorflow:TensorFlow's V1 checkpoint format has been deprecated.\n",
      "WARNING:tensorflow:Consider switching to the more efficient V2 format:\n",
      "WARNING:tensorflow:   `tf.train.Saver(write_version=tf.train.SaverDef.V2)`\n",
      "WARNING:tensorflow:now on by default.\n",
      "WARNING:tensorflow:*******************************************************\n",
      "INFO:tensorflow:Loss for final step: 0.0277144.\n"
     ]
    },
    {
     "data": {
      "text/plain": [
       "Estimator(params=None)"
      ]
     },
     "execution_count": 29,
     "metadata": {},
     "output_type": "execute_result"
    }
   ],
   "source": [
    "def my_model(features, target):\n",
    "    print(features)\n",
    "    target = tf.one_hot(target,2,1,0) #one hot encoding the output as it is a binary output, a 1 or 0 \n",
    "    features = layers.stack(features, layers.fully_connected, [400]) #we increased the number of neurons here\n",
    "    features = tf.nn.relu(features)#then passing it through a ReLU function \n",
    "    features = tf.nn.relu(features)#passing it through another ReLU\n",
    "    features = tf.nn.relu(features)#and a third ReLU\n",
    "    prediction, loss = (\n",
    "      tf.contrib.learn.models.logistic_regression_zero_init(features, target) #and then throught a Logistic Regression function\n",
    "    )\n",
    "    train_op = tf.contrib.layers.optimize_loss(\n",
    "      loss, tf.contrib.framework.get_global_step(), optimizer='Adagrad',\n",
    "      learning_rate=0.05)\n",
    "    return {'class': tf.argmax(prediction, 1), 'prob': prediction}, loss, train_op\n",
    "classifier = learn.Estimator(model_fn=my_model)\n",
    "\n",
    "classifier.fit(X_train.astype(np.float32), y_train.astype(np.int64), steps=300)"
   ]
  },
  {
   "cell_type": "code",
   "execution_count": 30,
   "metadata": {
    "collapsed": false
   },
   "outputs": [
    {
     "name": "stdout",
     "output_type": "stream",
     "text": [
      "0.980136077548\n"
     ]
    }
   ],
   "source": [
    "#just looking at accuracy out of curousity \n",
    "score = metrics.accuracy_score(y_test.astype(np.int64),yhat)\n",
    "print(score)"
   ]
  },
  {
   "cell_type": "code",
   "execution_count": 31,
   "metadata": {
    "collapsed": false
   },
   "outputs": [
    {
     "name": "stdout",
     "output_type": "stream",
     "text": [
      " -- Confusion Matrix for the first DNN architecture -- \n",
      "  [[397949      1]\n",
      " [  8413  17219]]\n"
     ]
    }
   ],
   "source": [
    "#The confusion matrix here is a good indicator for our False Positives, False Negatives, and True Positives. \n",
    "print(\" -- Confusion Matrix for the first DNN architecture -- \\n \", confusion_matrix(y_test, yhat))"
   ]
  },
  {
   "cell_type": "code",
   "execution_count": 32,
   "metadata": {
    "collapsed": false
   },
   "outputs": [
    {
     "name": "stdout",
     "output_type": "stream",
     "text": [
      "First Deep NN after tuning AUC =0.84\n",
      "             precision    recall  f1-score   support\n",
      "\n",
      "          0       0.98      1.00      0.99    397950\n",
      "          1       1.00      0.67      0.80     25632\n",
      "\n",
      "avg / total       0.98      0.98      0.98    423582\n",
      "\n"
     ]
    }
   ],
   "source": [
    "#we still have high Recall, Precision, and most importantly F1 \n",
    "#In fact, we have exactly the same AUC as we had before this additional tuning\n",
    "#one thing that is maybe worth mentioning is that we decreased the final loss value \n",
    "deep1ht_roc_auc=roc_auc_score(y_test, yhat)\n",
    "print(\"First Deep NN after tuning AUC =%2.2f\"%deep1ht_roc_auc)\n",
    "print(classification_report(y_test, yhat) )"
   ]
  },
  {
   "cell_type": "code",
   "execution_count": 33,
   "metadata": {
    "collapsed": false
   },
   "outputs": [
    {
     "data": {
      "image/png": "[encoded data removed]",
      "text/plain": [
       "<matplotlib.figure.Figure at 0x362fdd30>"
      ]
     },
     "metadata": {},
     "output_type": "display_data"
    }
   ],
   "source": [
    "fpr, tpr, thresholds=roc_curve(y_test, yhat)\n",
    "import warnings\n",
    "warnings.simplefilter('ignore', DeprecationWarning)\n",
    "%matplotlib inline\n",
    "plt.figure()\n",
    "plt.plot(fpr, tpr, label='ROC curve (area= %2.2f)' % deep1ht_roc_auc)\n",
    "plt.plot([0,1],[0,1], 'k--')\n",
    "plt.xlim(0.0, 1.0)\n",
    "plt.ylim(0.0, 1.05)\n",
    "plt.xlabel(\"False Positive Rate\")\n",
    "plt.ylabel(\"True Positive Rate\")\n",
    "plt.title(\"Receiver Operating Characteristics Curve For The first DNN architecture - aftery tuning\")\n",
    "plt.legend(loc=\"lower right\")\n",
    "plt.show()"
   ]
  },
  {
   "cell_type": "markdown",
   "metadata": {},
   "source": [
    "####  **Comment**:\n",
    "As we can see, after \"some\" tuning of the hyper-parameters, we impacted only the final step loss which was reduced from\n",
    "0.038377 to 0.0306 (first run) and from 0.0414 to 0.025, in the second run. Maybe this is the best that this architecture \n",
    "can do. Even though, we mentioned that we once received AUC = 0.86. "
   ]
  },
  {
   "cell_type": "markdown",
   "metadata": {
    "collapsed": true
   },
   "source": [
    "**Analyzing Results of the First Architecture**: \n",
    "\n",
    "We tried doing more tuning as we focused on increasing the number of hidden neurons and the number of steps as well\n",
    "but we didn't obtain performance that is better than 0.86 \n",
    "**To sum up** : \n",
    "For the first Deep Neural Network Architecure, we obtained the following:\n",
    "    - Highest Area Under the Curve (AUC)  was 0.86 \n",
    "    - Performance was oscillating between 0.82 ~ 0.86 while tuning the hyper-parameters\n",
    "    - With tuning the hyper-parameters as we saw above we obtained a value of AUC of 0.83 which was the most consistent\n",
    "    value of the AUC we could get. \n",
    "    - F1, Recall and Precision metrics were obtained everytime we investigated the results of tuning the parameters; the best\n",
    "    values of F1 obtained were 0.8 for class 1 (arrests made) and 0.67 for Recall and 1 for precision. \n",
    "    \n",
    "    When we obtained a value of AUC of 0.86, the True Positives were higher than what we have here (18321 vs. 17114) \n",
    "    and the False Negatives were lower (7311 vs 8518 ), where we have zero false positives here and obtained 1 false positive\n",
    "    in the previous ( AUC of 0.86 ) results. \n",
    "    \n",
    " In conclusion, even though the performance is oscillating between AUC 0.83 to 0.86 , we consider these results to be good.\n",
    " "
   ]
  },
  {
   "cell_type": "markdown",
   "metadata": {},
   "source": [
    "### **Second Deep Neural Network Architecture** "
   ]
  },
  {
   "cell_type": "markdown",
   "metadata": {},
   "source": [
    "Here we added two more layers, one was at the beginning, with 100 neurons, then, and right before feeding it to a logistic  regression function, we added another layer, and the same 3 ReLUs are still in between. We will see now if it is better than the previouse 1st architecture."
   ]
  },
  {
   "cell_type": "code",
   "execution_count": 34,
   "metadata": {
    "collapsed": false
   },
   "outputs": [
    {
     "name": "stdout",
     "output_type": "stream",
     "text": [
      "Wall time: 0 ns\n",
      "WARNING:tensorflow:Using temporary folder as model directory: C:\\Users\\INSTAL~1.15-\\AppData\\Local\\Temp\\tmp694aqv3j\n",
      "INFO:tensorflow:Using default config.\n",
      "INFO:tensorflow:Using config: {'_evaluation_master': '', 'save_summary_steps': 100, 'tf_random_seed': None, 'tf_config': gpu_options {\n",
      "  per_process_gpu_memory_fraction: 1\n",
      "}\n",
      ", 'save_checkpoints_steps': None, '_environment': 'local', '_cluster_spec': <tensorflow.python.training.server_lib.ClusterSpec object at 0x00000000364F6DD8>, 'keep_checkpoint_every_n_hours': 10000, '_task_id': 0, 'save_checkpoints_secs': 600, '_task_type': None, '_num_ps_replicas': 0, '_is_chief': True, '_master': '', 'keep_checkpoint_max': 5}\n",
      "WARNING:tensorflow:From <ipython-input-34-8cf42e82ea1c>:27 in <module>.: calling BaseEstimator.fit (from tensorflow.contrib.learn.python.learn.estimators.estimator) with x is deprecated and will be removed after 2016-12-01.\n",
      "Instructions for updating:\n",
      "Estimator is decoupled from Scikit Learn interface by moving into\n",
      "separate class SKCompat. Arguments x, y and batch_size are only\n",
      "available in the SKCompat class, Estimator will only accept input_fn.\n",
      "Example conversion:\n",
      "  est = Estimator(...) -> est = SKCompat(Estimator(...))\n",
      "WARNING:tensorflow:From <ipython-input-34-8cf42e82ea1c>:27 in <module>.: calling BaseEstimator.fit (from tensorflow.contrib.learn.python.learn.estimators.estimator) with y is deprecated and will be removed after 2016-12-01.\n",
      "Instructions for updating:\n",
      "Estimator is decoupled from Scikit Learn interface by moving into\n",
      "separate class SKCompat. Arguments x, y and batch_size are only\n",
      "available in the SKCompat class, Estimator will only accept input_fn.\n",
      "Example conversion:\n",
      "  est = Estimator(...) -> est = SKCompat(Estimator(...))\n",
      "Tensor(\"input:0\", shape=(?, 20), dtype=float32)\n",
      "WARNING:tensorflow:From C:\\Program Files\\Anaconda3\\lib\\site-packages\\tensorflow\\contrib\\learn\\python\\learn\\models.py:175 in logistic_regression.: softmax_classifier (from tensorflow.contrib.learn.python.learn.ops.losses_ops) is deprecated and will be removed after 2016-12-01.\n",
      "Instructions for updating:\n",
      "Use `tf.contrib.losses.softmax_cross_entropy` and explicit logits computation.\n",
      "INFO:tensorflow:Create CheckpointSaverHook.\n",
      "INFO:tensorflow:step = 1, loss = 0.693204\n",
      "INFO:tensorflow:Saving checkpoints for 1 into C:\\Users\\INSTAL~1.15-\\AppData\\Local\\Temp\\tmp694aqv3j\\model.ckpt.\n",
      "WARNING:tensorflow:*******************************************************\n",
      "WARNING:tensorflow:TensorFlow's V1 checkpoint format has been deprecated.\n",
      "WARNING:tensorflow:Consider switching to the more efficient V2 format:\n",
      "WARNING:tensorflow:   `tf.train.Saver(write_version=tf.train.SaverDef.V2)`\n",
      "WARNING:tensorflow:now on by default.\n",
      "WARNING:tensorflow:*******************************************************\n",
      "INFO:tensorflow:step = 101, loss = 0.423863\n",
      "INFO:tensorflow:global_step/sec: 0.986359\n",
      "INFO:tensorflow:Saving checkpoints for 200 into C:\\Users\\INSTAL~1.15-\\AppData\\Local\\Temp\\tmp694aqv3j\\model.ckpt.\n",
      "WARNING:tensorflow:*******************************************************\n",
      "WARNING:tensorflow:TensorFlow's V1 checkpoint format has been deprecated.\n",
      "WARNING:tensorflow:Consider switching to the more efficient V2 format:\n",
      "WARNING:tensorflow:   `tf.train.Saver(write_version=tf.train.SaverDef.V2)`\n",
      "WARNING:tensorflow:now on by default.\n",
      "WARNING:tensorflow:*******************************************************\n",
      "INFO:tensorflow:Loss for final step: 0.127544.\n"
     ]
    },
    {
     "data": {
      "text/plain": [
       "Estimator(params=None)"
      ]
     },
     "execution_count": 34,
     "metadata": {},
     "output_type": "execute_result"
    }
   ],
   "source": [
    "%time\n",
    "import tensorflow as tf\n",
    "import numpy as np\n",
    "from tensorflow.contrib import layers\n",
    "from tensorflow.contrib import learn\n",
    "\n",
    "#Now, let's look at our second deep neural network architecture\n",
    "\n",
    "def my_model(features, target):\n",
    "    print(features)\n",
    "    target = tf.one_hot(target,2,1,0) #one hot encoding the output as it is a binary output, a 1 or 0 \n",
    "    features = layers.stack(features, layers.fully_connected, [100, 100]) #we increased the number of neurons here\n",
    "    features = tf.nn.relu(features)#then passing it through a ReLU function \n",
    "    features = tf.nn.relu(features)#passing it through another ReLU\n",
    "    features = tf.nn.relu(features)\n",
    "    features = layers.stack(features, layers.fully_connected, [100])\n",
    "    prediction, loss = (\n",
    "      tf.contrib.learn.models.logistic_regression_zero_init(features, target) \n",
    "        #and then throught a Logistic Regression function\n",
    "    )\n",
    "    train_op = tf.contrib.layers.optimize_loss(\n",
    "      loss, tf.contrib.framework.get_global_step(), optimizer='Adagrad',\n",
    "      learning_rate=0.1)\n",
    "    return {'class': tf.argmax(prediction, 1), 'prob': prediction}, loss, train_op\n",
    "classifier = learn.Estimator(model_fn=my_model)\n",
    "\n",
    "classifier.fit(X_train.astype(np.float32), y_train.astype(np.int64), steps=200)\n",
    "#increased numb of steps, final loss decreased"
   ]
  },
  {
   "cell_type": "code",
   "execution_count": 35,
   "metadata": {
    "collapsed": false
   },
   "outputs": [
    {
     "name": "stdout",
     "output_type": "stream",
     "text": [
      "WARNING:tensorflow:From <ipython-input-35-4bd7ce561cc8>:2 in <module>.: calling BaseEstimator.predict (from tensorflow.contrib.learn.python.learn.estimators.estimator) with x is deprecated and will be removed after 2016-12-01.\n",
      "Instructions for updating:\n",
      "Estimator is decoupled from Scikit Learn interface by moving into\n",
      "separate class SKCompat. Arguments x, y and batch_size are only\n",
      "available in the SKCompat class, Estimator will only accept input_fn.\n",
      "Example conversion:\n",
      "  est = Estimator(...) -> est = SKCompat(Estimator(...))\n",
      "WARNING:tensorflow:From <ipython-input-35-4bd7ce561cc8>:2 in <module>.: calling BaseEstimator.predict (from tensorflow.contrib.learn.python.learn.estimators.estimator) with as_iterable is deprecated and will be removed after 2016-12-01.\n",
      "Instructions for updating:\n",
      "Estimator is decoupled from Scikit Learn interface by moving into\n",
      "separate class SKCompat. Arguments x, y and batch_size are only\n",
      "available in the SKCompat class, Estimator will only accept input_fn.\n",
      "Example conversion:\n",
      "  est = Estimator(...) -> est = SKCompat(Estimator(...))\n",
      "Tensor(\"input:0\", shape=(?, 20), dtype=float32)\n",
      "WARNING:tensorflow:From C:\\Program Files\\Anaconda3\\lib\\site-packages\\tensorflow\\contrib\\learn\\python\\learn\\models.py:175 in logistic_regression.: softmax_classifier (from tensorflow.contrib.learn.python.learn.ops.losses_ops) is deprecated and will be removed after 2016-12-01.\n",
      "Instructions for updating:\n",
      "Use `tf.contrib.losses.softmax_cross_entropy` and explicit logits computation.\n",
      "INFO:tensorflow:Loading model from checkpoint: C:\\Users\\INSTAL~1.15-\\AppData\\Local\\Temp\\tmp694aqv3j\\model.ckpt-200-?????-of-00001.\n",
      "0.940660840168\n"
     ]
    }
   ],
   "source": [
    "from sklearn import metrics\n",
    "yhat_dict =  list(classifier.predict(X_test.astype(np.float32),as_iterable=True))\n",
    "yhat = np.array([x['class'] for x in yhat_dict])\n",
    "\n",
    "score = metrics.accuracy_score(y_test.astype(np.int64),yhat)\n",
    "print(score)"
   ]
  },
  {
   "cell_type": "code",
   "execution_count": 36,
   "metadata": {
    "collapsed": false
   },
   "outputs": [
    {
     "name": "stdout",
     "output_type": "stream",
     "text": [
      " -- Confusion Matrix for the Second DNN architecture -- \n",
      "  [[397950      0]\n",
      " [ 25135    497]]\n"
     ]
    }
   ],
   "source": [
    "from sklearn.metrics import confusion_matrix\n",
    "print(\" -- Confusion Matrix for the Second DNN architecture -- \\n \", confusion_matrix(y_test.astype(np.int64), yhat))"
   ]
  },
  {
   "cell_type": "markdown",
   "metadata": {},
   "source": [
    "#### Comment:\n",
    "As we can see, we have a significant improvement over the 1st architecture. We now have only 1398 False Negatives compared\n",
    "to 8518 false negatives we had previously! Also, the number of True Positives has increased dramatically from 17114 to \n",
    "24234 True Positives! There is only a slight increase in the False Positives from 0 to 25 which is not a big deal here.\n",
    "This performance is considered very good. As we can see below, it gave an AUC of 0.97 ! "
   ]
  },
  {
   "cell_type": "code",
   "execution_count": 37,
   "metadata": {
    "collapsed": false
   },
   "outputs": [
    {
     "name": "stdout",
     "output_type": "stream",
     "text": [
      "Second Deep NN AUC =0.51\n",
      "             precision    recall  f1-score   support\n",
      "\n",
      "          0       0.94      1.00      0.97    397950\n",
      "          1       1.00      0.02      0.04     25632\n",
      "\n",
      "avg / total       0.94      0.94      0.91    423582\n",
      "\n"
     ]
    }
   ],
   "source": [
    "from sklearn.metrics import roc_auc_score \n",
    "from sklearn.metrics import classification_report\n",
    "deep2_roc_auc=roc_auc_score(y_test.astype(np.int64), yhat)\n",
    "print(\"Second Deep NN AUC =%2.2f\"%deep2_roc_auc)\n",
    "print(classification_report(y_test.astype(np.int64), yhat) )"
   ]
  },
  {
   "cell_type": "markdown",
   "metadata": {},
   "source": [
    "***Notice how the Recall jumped from 0.67 to 0.95 for the class of 1 (Arrests), Also, notice the improvement in the \n",
    "F1 Score from 0.8 in the first architecture to 0.97 in this architecture! This is a significant improvement***"
   ]
  },
  {
   "cell_type": "code",
   "execution_count": 39,
   "metadata": {
    "collapsed": false
   },
   "outputs": [
    {
     "data": {
      "image/png": "[encoded data removed]",
      "text/plain": [
       "<matplotlib.figure.Figure at 0x36682f60>"
      ]
     },
     "metadata": {},
     "output_type": "display_data"
    }
   ],
   "source": [
    "fpr, tpr, thresholds=roc_curve(y_test.astype(np.int64), yhat)\n",
    "import warnings\n",
    "warnings.simplefilter('ignore', DeprecationWarning)\n",
    "%matplotlib inline\n",
    "plt.figure()\n",
    "plt.plot(fpr, tpr, label='ROC curve (area= %2.2f)' % deep2_roc_auc)\n",
    "plt.plot([0,1],[0,1], 'k--')\n",
    "plt.xlim(0.0, 1.0)\n",
    "plt.ylim(0.0, 1.05)\n",
    "plt.xlabel(\"False Positive Rate\")\n",
    "plt.ylabel(\"True Positive Rate\")\n",
    "plt.title(\"Receiver Operating Characteristics Curve For The Second DNN architecture\")\n",
    "plt.legend(loc=\"lower right\")\n",
    "plt.show()"
   ]
  },
  {
   "cell_type": "markdown",
   "metadata": {
    "collapsed": false
   },
   "source": [
    "### Tuning the hyper-parameters for Architecture 2 :\n",
    "    "
   ]
  },
  {
   "cell_type": "markdown",
   "metadata": {
    "collapsed": true
   },
   "source": [
    "#### What if we tune the hyper-parameters of this second architecture? Can we get better prediction?"
   ]
  },
  {
   "cell_type": "code",
   "execution_count": 40,
   "metadata": {
    "collapsed": true
   },
   "outputs": [],
   "source": [
    "# We will increase the number of hidden neurons to be 300 for the two layers at the beginning\n",
    "# and also we will change the number of steps  to be 300 with the same fixed value for the learning rate (0.1)"
   ]
  },
  {
   "cell_type": "code",
   "execution_count": 41,
   "metadata": {
    "collapsed": false
   },
   "outputs": [
    {
     "name": "stdout",
     "output_type": "stream",
     "text": [
      "Wall time: 0 ns\n",
      "WARNING:tensorflow:Using temporary folder as model directory: C:\\Users\\INSTAL~1.15-\\AppData\\Local\\Temp\\tmp40wzujd4\n",
      "INFO:tensorflow:Using default config.\n",
      "INFO:tensorflow:Using config: {'_evaluation_master': '', 'save_summary_steps': 100, 'tf_random_seed': None, 'tf_config': gpu_options {\n",
      "  per_process_gpu_memory_fraction: 1\n",
      "}\n",
      ", 'save_checkpoints_steps': None, '_environment': 'local', '_cluster_spec': <tensorflow.python.training.server_lib.ClusterSpec object at 0x0000000032A06D68>, 'keep_checkpoint_every_n_hours': 10000, '_task_id': 0, 'save_checkpoints_secs': 600, '_task_type': None, '_num_ps_replicas': 0, '_is_chief': True, '_master': '', 'keep_checkpoint_max': 5}\n",
      "WARNING:tensorflow:From <ipython-input-41-843355ef6355>:26 in <module>.: calling BaseEstimator.fit (from tensorflow.contrib.learn.python.learn.estimators.estimator) with x is deprecated and will be removed after 2016-12-01.\n",
      "Instructions for updating:\n",
      "Estimator is decoupled from Scikit Learn interface by moving into\n",
      "separate class SKCompat. Arguments x, y and batch_size are only\n",
      "available in the SKCompat class, Estimator will only accept input_fn.\n",
      "Example conversion:\n",
      "  est = Estimator(...) -> est = SKCompat(Estimator(...))\n",
      "WARNING:tensorflow:From <ipython-input-41-843355ef6355>:26 in <module>.: calling BaseEstimator.fit (from tensorflow.contrib.learn.python.learn.estimators.estimator) with y is deprecated and will be removed after 2016-12-01.\n",
      "Instructions for updating:\n",
      "Estimator is decoupled from Scikit Learn interface by moving into\n",
      "separate class SKCompat. Arguments x, y and batch_size are only\n",
      "available in the SKCompat class, Estimator will only accept input_fn.\n",
      "Example conversion:\n",
      "  est = Estimator(...) -> est = SKCompat(Estimator(...))\n",
      "Tensor(\"input:0\", shape=(?, 20), dtype=float32)\n",
      "WARNING:tensorflow:From C:\\Program Files\\Anaconda3\\lib\\site-packages\\tensorflow\\contrib\\learn\\python\\learn\\models.py:175 in logistic_regression.: softmax_classifier (from tensorflow.contrib.learn.python.learn.ops.losses_ops) is deprecated and will be removed after 2016-12-01.\n",
      "Instructions for updating:\n",
      "Use `tf.contrib.losses.softmax_cross_entropy` and explicit logits computation.\n",
      "INFO:tensorflow:Create CheckpointSaverHook.\n",
      "INFO:tensorflow:step = 1, loss = 0.693204\n",
      "INFO:tensorflow:Saving checkpoints for 1 into C:\\Users\\INSTAL~1.15-\\AppData\\Local\\Temp\\tmp40wzujd4\\model.ckpt.\n",
      "WARNING:tensorflow:*******************************************************\n",
      "WARNING:tensorflow:TensorFlow's V1 checkpoint format has been deprecated.\n",
      "WARNING:tensorflow:Consider switching to the more efficient V2 format:\n",
      "WARNING:tensorflow:   `tf.train.Saver(write_version=tf.train.SaverDef.V2)`\n",
      "WARNING:tensorflow:now on by default.\n",
      "WARNING:tensorflow:*******************************************************\n",
      "INFO:tensorflow:step = 101, loss = 0.223874\n",
      "INFO:tensorflow:global_step/sec: 0.377378\n",
      "INFO:tensorflow:step = 201, loss = 0.157344\n",
      "INFO:tensorflow:global_step/sec: 0.376377\n",
      "INFO:tensorflow:Saving checkpoints for 228 into C:\\Users\\INSTAL~1.15-\\AppData\\Local\\Temp\\tmp40wzujd4\\model.ckpt.\n",
      "WARNING:tensorflow:*******************************************************\n",
      "WARNING:tensorflow:TensorFlow's V1 checkpoint format has been deprecated.\n",
      "WARNING:tensorflow:Consider switching to the more efficient V2 format:\n",
      "WARNING:tensorflow:   `tf.train.Saver(write_version=tf.train.SaverDef.V2)`\n",
      "WARNING:tensorflow:now on by default.\n",
      "WARNING:tensorflow:*******************************************************\n",
      "INFO:tensorflow:Saving checkpoints for 300 into C:\\Users\\INSTAL~1.15-\\AppData\\Local\\Temp\\tmp40wzujd4\\model.ckpt.\n",
      "WARNING:tensorflow:*******************************************************\n",
      "WARNING:tensorflow:TensorFlow's V1 checkpoint format has been deprecated.\n",
      "WARNING:tensorflow:Consider switching to the more efficient V2 format:\n",
      "WARNING:tensorflow:   `tf.train.Saver(write_version=tf.train.SaverDef.V2)`\n",
      "WARNING:tensorflow:now on by default.\n",
      "WARNING:tensorflow:*******************************************************\n",
      "INFO:tensorflow:Loss for final step: 0.0375128.\n"
     ]
    },
    {
     "data": {
      "text/plain": [
       "Estimator(params=None)"
      ]
     },
     "execution_count": 41,
     "metadata": {},
     "output_type": "execute_result"
    }
   ],
   "source": [
    "%time\n",
    "import tensorflow as tf\n",
    "import numpy as np\n",
    "from tensorflow.contrib import layers\n",
    "from tensorflow.contrib import learn\n",
    "\n",
    "#Now, let's look at our second deep neural network architecture\n",
    "\n",
    "def my_model(features, target):\n",
    "    print(features)\n",
    "    target = tf.one_hot(target,2,1,0) #one hot encoding the output as it is a binary output, a 1 or 0 \n",
    "    features = layers.stack(features, layers.fully_connected, [300, 300]) #we increased the number of neurons here\n",
    "    features = tf.nn.relu(features)#then passing it through a ReLU function \n",
    "    features = tf.nn.relu(features)#passing it through another ReLU\n",
    "    features = tf.nn.relu(features)\n",
    "    features = layers.stack(features, layers.fully_connected, [100])\n",
    "    prediction, loss = (\n",
    "      tf.contrib.learn.models.logistic_regression_zero_init(features, target) #and then throught a Logistic Regression function\n",
    "    )\n",
    "    train_op = tf.contrib.layers.optimize_loss(\n",
    "      loss, tf.contrib.framework.get_global_step(), optimizer='Adagrad',\n",
    "      learning_rate=0.1)\n",
    "    return {'class': tf.argmax(prediction, 1), 'prob': prediction}, loss, train_op\n",
    "classifier = learn.Estimator(model_fn=my_model)\n",
    "\n",
    "classifier.fit(X_train.astype(np.float32), y_train.astype(np.int64), steps=300)"
   ]
  },
  {
   "cell_type": "code",
   "execution_count": 42,
   "metadata": {
    "collapsed": false
   },
   "outputs": [
    {
     "name": "stdout",
     "output_type": "stream",
     "text": [
      "WARNING:tensorflow:From <ipython-input-42-fa7647fa485c>:1 in <module>.: calling BaseEstimator.predict (from tensorflow.contrib.learn.python.learn.estimators.estimator) with x is deprecated and will be removed after 2016-12-01.\n",
      "Instructions for updating:\n",
      "Estimator is decoupled from Scikit Learn interface by moving into\n",
      "separate class SKCompat. Arguments x, y and batch_size are only\n",
      "available in the SKCompat class, Estimator will only accept input_fn.\n",
      "Example conversion:\n",
      "  est = Estimator(...) -> est = SKCompat(Estimator(...))\n",
      "WARNING:tensorflow:From <ipython-input-42-fa7647fa485c>:1 in <module>.: calling BaseEstimator.predict (from tensorflow.contrib.learn.python.learn.estimators.estimator) with as_iterable is deprecated and will be removed after 2016-12-01.\n",
      "Instructions for updating:\n",
      "Estimator is decoupled from Scikit Learn interface by moving into\n",
      "separate class SKCompat. Arguments x, y and batch_size are only\n",
      "available in the SKCompat class, Estimator will only accept input_fn.\n",
      "Example conversion:\n",
      "  est = Estimator(...) -> est = SKCompat(Estimator(...))\n",
      "Tensor(\"input:0\", shape=(?, 20), dtype=float32)\n",
      "WARNING:tensorflow:From C:\\Program Files\\Anaconda3\\lib\\site-packages\\tensorflow\\contrib\\learn\\python\\learn\\models.py:175 in logistic_regression.: softmax_classifier (from tensorflow.contrib.learn.python.learn.ops.losses_ops) is deprecated and will be removed after 2016-12-01.\n",
      "Instructions for updating:\n",
      "Use `tf.contrib.losses.softmax_cross_entropy` and explicit logits computation.\n",
      "INFO:tensorflow:Loading model from checkpoint: C:\\Users\\INSTAL~1.15-\\AppData\\Local\\Temp\\tmp40wzujd4\\model.ckpt-300-?????-of-00001.\n",
      "0.995500280937\n"
     ]
    }
   ],
   "source": [
    "yhat_dict =  list(classifier.predict(X_test.astype(np.float32),as_iterable=True))\n",
    "yhat = np.array([x['class'] for x in yhat_dict])\n",
    "\n",
    "score = metrics.accuracy_score(y_test.astype(np.int64),yhat)\n",
    "print(score)"
   ]
  },
  {
   "cell_type": "code",
   "execution_count": 43,
   "metadata": {
    "collapsed": false
   },
   "outputs": [
    {
     "name": "stdout",
     "output_type": "stream",
     "text": [
      " -- Confusion Matrix for the Second DNN architecture -- \n",
      "  [[397932     18]\n",
      " [  1888  23744]]\n"
     ]
    }
   ],
   "source": [
    "from sklearn.metrics import confusion_matrix\n",
    "print(\" -- Confusion Matrix for the Second DNN architecture -- \\n \", confusion_matrix(y_test.astype(np.int64), yhat))"
   ]
  },
  {
   "cell_type": "code",
   "execution_count": null,
   "metadata": {
    "collapsed": true
   },
   "outputs": [],
   "source": [
    "#There is something wrong here, it shouldn't be like this! We added more neurons, it shouldn't perform this bad\n",
    "#after adding more neurons, right? "
   ]
  },
  {
   "cell_type": "code",
   "execution_count": 44,
   "metadata": {
    "collapsed": false
   },
   "outputs": [
    {
     "name": "stdout",
     "output_type": "stream",
     "text": [
      "Second Deep NN AUC =0.96\n",
      "             precision    recall  f1-score   support\n",
      "\n",
      "          0       1.00      1.00      1.00    397950\n",
      "          1       1.00      0.93      0.96     25632\n",
      "\n",
      "avg / total       1.00      1.00      1.00    423582\n",
      "\n"
     ]
    }
   ],
   "source": [
    "from sklearn.metrics import roc_auc_score \n",
    "from sklearn.metrics import classification_report\n",
    "deep2ht_roc_auc=roc_auc_score(y_test.astype(np.int64), yhat)\n",
    "print(\"Second Deep NN AUC =%2.2f\"%deep2ht_roc_auc)\n",
    "print(classification_report(y_test.astype(np.int64), yhat) )"
   ]
  },
  {
   "cell_type": "code",
   "execution_count": 45,
   "metadata": {
    "collapsed": false
   },
   "outputs": [
    {
     "data": {
      "image/png": "[encoded data removed]",
      "text/plain": [
       "<matplotlib.figure.Figure at 0x683aeba8>"
      ]
     },
     "metadata": {},
     "output_type": "display_data"
    }
   ],
   "source": [
    "fpr, tpr, thresholds=roc_curve(y_test.astype(np.int64), yhat)\n",
    "import warnings\n",
    "warnings.simplefilter('ignore', DeprecationWarning)\n",
    "%matplotlib inline\n",
    "plt.figure()\n",
    "plt.plot(fpr, tpr, label='ROC curve (area= %2.2f)' % deep2ht_roc_auc)\n",
    "plt.plot([0,1],[0,1], 'k--')\n",
    "plt.xlim(0.0, 1.0)\n",
    "plt.ylim(0.0, 1.05)\n",
    "plt.xlabel(\"False Positive Rate\")\n",
    "plt.ylabel(\"True Positive Rate\")\n",
    "plt.title(\"Receiver Operating Characteristics Curve For Second Deep NN architecture with Tuning\")\n",
    "plt.legend(loc=\"lower right\")\n",
    "plt.show()"
   ]
  },
  {
   "cell_type": "markdown",
   "metadata": {
    "collapsed": true
   },
   "source": [
    "*Note*: when we used this tuning, we got the above result which is a poor performance. We think that we should increase the \n",
    "#number of hidden neurons and that may result in better performance "
   ]
  },
  {
   "cell_type": "markdown",
   "metadata": {},
   "source": [
    "#### More Hyper-parameters Tuning "
   ]
  },
  {
   "cell_type": "code",
   "execution_count": 46,
   "metadata": {
    "collapsed": false
   },
   "outputs": [
    {
     "name": "stdout",
     "output_type": "stream",
     "text": [
      "Wall time: 0 ns\n",
      "WARNING:tensorflow:Using temporary folder as model directory: C:\\Users\\INSTAL~1.15-\\AppData\\Local\\Temp\\tmptemz583q\n",
      "INFO:tensorflow:Using default config.\n",
      "INFO:tensorflow:Using config: {'_evaluation_master': '', 'save_summary_steps': 100, 'tf_random_seed': None, 'tf_config': gpu_options {\n",
      "  per_process_gpu_memory_fraction: 1\n",
      "}\n",
      ", 'save_checkpoints_steps': None, '_environment': 'local', '_cluster_spec': <tensorflow.python.training.server_lib.ClusterSpec object at 0x00000000478D6A58>, 'keep_checkpoint_every_n_hours': 10000, '_task_id': 0, 'save_checkpoints_secs': 600, '_task_type': None, '_num_ps_replicas': 0, '_is_chief': True, '_master': '', 'keep_checkpoint_max': 5}\n",
      "WARNING:tensorflow:From <ipython-input-46-e09337c9ec5a>:27 in <module>.: calling BaseEstimator.fit (from tensorflow.contrib.learn.python.learn.estimators.estimator) with x is deprecated and will be removed after 2016-12-01.\n",
      "Instructions for updating:\n",
      "Estimator is decoupled from Scikit Learn interface by moving into\n",
      "separate class SKCompat. Arguments x, y and batch_size are only\n",
      "available in the SKCompat class, Estimator will only accept input_fn.\n",
      "Example conversion:\n",
      "  est = Estimator(...) -> est = SKCompat(Estimator(...))\n",
      "WARNING:tensorflow:From <ipython-input-46-e09337c9ec5a>:27 in <module>.: calling BaseEstimator.fit (from tensorflow.contrib.learn.python.learn.estimators.estimator) with y is deprecated and will be removed after 2016-12-01.\n",
      "Instructions for updating:\n",
      "Estimator is decoupled from Scikit Learn interface by moving into\n",
      "separate class SKCompat. Arguments x, y and batch_size are only\n",
      "available in the SKCompat class, Estimator will only accept input_fn.\n",
      "Example conversion:\n",
      "  est = Estimator(...) -> est = SKCompat(Estimator(...))\n",
      "Tensor(\"input:0\", shape=(?, 20), dtype=float32)\n",
      "WARNING:tensorflow:From C:\\Program Files\\Anaconda3\\lib\\site-packages\\tensorflow\\contrib\\learn\\python\\learn\\models.py:175 in logistic_regression.: softmax_classifier (from tensorflow.contrib.learn.python.learn.ops.losses_ops) is deprecated and will be removed after 2016-12-01.\n",
      "Instructions for updating:\n",
      "Use `tf.contrib.losses.softmax_cross_entropy` and explicit logits computation.\n",
      "INFO:tensorflow:Create CheckpointSaverHook.\n",
      "INFO:tensorflow:step = 1, loss = 0.693204\n",
      "INFO:tensorflow:Saving checkpoints for 1 into C:\\Users\\INSTAL~1.15-\\AppData\\Local\\Temp\\tmptemz583q\\model.ckpt.\n",
      "WARNING:tensorflow:*******************************************************\n",
      "WARNING:tensorflow:TensorFlow's V1 checkpoint format has been deprecated.\n",
      "WARNING:tensorflow:Consider switching to the more efficient V2 format:\n",
      "WARNING:tensorflow:   `tf.train.Saver(write_version=tf.train.SaverDef.V2)`\n",
      "WARNING:tensorflow:now on by default.\n",
      "WARNING:tensorflow:*******************************************************\n",
      "INFO:tensorflow:step = 101, loss = 0.212801\n",
      "INFO:tensorflow:global_step/sec: 0.198217\n",
      "INFO:tensorflow:Saving checkpoints for 120 into C:\\Users\\INSTAL~1.15-\\AppData\\Local\\Temp\\tmptemz583q\\model.ckpt.\n",
      "WARNING:tensorflow:*******************************************************\n",
      "WARNING:tensorflow:TensorFlow's V1 checkpoint format has been deprecated.\n",
      "WARNING:tensorflow:Consider switching to the more efficient V2 format:\n",
      "WARNING:tensorflow:   `tf.train.Saver(write_version=tf.train.SaverDef.V2)`\n",
      "WARNING:tensorflow:now on by default.\n",
      "WARNING:tensorflow:*******************************************************\n",
      "INFO:tensorflow:step = 201, loss = 0.153234\n",
      "INFO:tensorflow:global_step/sec: 0.195443\n",
      "INFO:tensorflow:Saving checkpoints for 237 into C:\\Users\\INSTAL~1.15-\\AppData\\Local\\Temp\\tmptemz583q\\model.ckpt.\n",
      "WARNING:tensorflow:*******************************************************\n",
      "WARNING:tensorflow:TensorFlow's V1 checkpoint format has been deprecated.\n",
      "WARNING:tensorflow:Consider switching to the more efficient V2 format:\n",
      "WARNING:tensorflow:   `tf.train.Saver(write_version=tf.train.SaverDef.V2)`\n",
      "WARNING:tensorflow:now on by default.\n",
      "WARNING:tensorflow:*******************************************************\n",
      "INFO:tensorflow:Saving checkpoints for 300 into C:\\Users\\INSTAL~1.15-\\AppData\\Local\\Temp\\tmptemz583q\\model.ckpt.\n",
      "WARNING:tensorflow:*******************************************************\n",
      "WARNING:tensorflow:TensorFlow's V1 checkpoint format has been deprecated.\n",
      "WARNING:tensorflow:Consider switching to the more efficient V2 format:\n",
      "WARNING:tensorflow:   `tf.train.Saver(write_version=tf.train.SaverDef.V2)`\n",
      "WARNING:tensorflow:now on by default.\n",
      "WARNING:tensorflow:*******************************************************\n",
      "INFO:tensorflow:Loss for final step: 0.081137.\n"
     ]
    },
    {
     "data": {
      "text/plain": [
       "Estimator(params=None)"
      ]
     },
     "execution_count": 46,
     "metadata": {},
     "output_type": "execute_result"
    }
   ],
   "source": [
    "#continued tuning\n",
    "%%time\n",
    "import tensorflow as tf\n",
    "import numpy as np\n",
    "from tensorflow.contrib import layers\n",
    "from tensorflow.contrib import learn\n",
    "\n",
    "#Now, let's look at our second deep neural network architecture\n",
    "\n",
    "def my_model(features, target):\n",
    "    print(features)\n",
    "    target = tf.one_hot(target,2,1,0) #one hot encoding the output as it is a binary output, a 1 or 0 \n",
    "    features = layers.stack(features, layers.fully_connected, [400, 400]) #we increased the number of neurons here\n",
    "    features = tf.nn.relu(features)#then passing it through a ReLU function \n",
    "    features = tf.nn.relu(features)#passing it through another ReLU\n",
    "    features = tf.nn.relu(features)\n",
    "    features = layers.stack(features, layers.fully_connected, [400])\n",
    "    prediction, loss = (\n",
    "      tf.contrib.learn.models.logistic_regression_zero_init(features, target) #and then throught a Logistic Regression function\n",
    "    )\n",
    "    train_op = tf.contrib.layers.optimize_loss(\n",
    "      loss, tf.contrib.framework.get_global_step(), optimizer='Adagrad',\n",
    "      learning_rate=0.1)\n",
    "    return {'class': tf.argmax(prediction, 1), 'prob': prediction}, loss, train_op\n",
    "classifier = learn.Estimator(model_fn=my_model)\n",
    "\n",
    "classifier.fit(X_train.astype(np.float32), y_train.astype(np.int64), steps=300)"
   ]
  },
  {
   "cell_type": "code",
   "execution_count": 47,
   "metadata": {
    "collapsed": false
   },
   "outputs": [
    {
     "name": "stdout",
     "output_type": "stream",
     "text": [
      "WARNING:tensorflow:From <ipython-input-47-fa7647fa485c>:1 in <module>.: calling BaseEstimator.predict (from tensorflow.contrib.learn.python.learn.estimators.estimator) with x is deprecated and will be removed after 2016-12-01.\n",
      "Instructions for updating:\n",
      "Estimator is decoupled from Scikit Learn interface by moving into\n",
      "separate class SKCompat. Arguments x, y and batch_size are only\n",
      "available in the SKCompat class, Estimator will only accept input_fn.\n",
      "Example conversion:\n",
      "  est = Estimator(...) -> est = SKCompat(Estimator(...))\n",
      "WARNING:tensorflow:From <ipython-input-47-fa7647fa485c>:1 in <module>.: calling BaseEstimator.predict (from tensorflow.contrib.learn.python.learn.estimators.estimator) with as_iterable is deprecated and will be removed after 2016-12-01.\n",
      "Instructions for updating:\n",
      "Estimator is decoupled from Scikit Learn interface by moving into\n",
      "separate class SKCompat. Arguments x, y and batch_size are only\n",
      "available in the SKCompat class, Estimator will only accept input_fn.\n",
      "Example conversion:\n",
      "  est = Estimator(...) -> est = SKCompat(Estimator(...))\n",
      "Tensor(\"input:0\", shape=(?, 20), dtype=float32)\n",
      "WARNING:tensorflow:From C:\\Program Files\\Anaconda3\\lib\\site-packages\\tensorflow\\contrib\\learn\\python\\learn\\models.py:175 in logistic_regression.: softmax_classifier (from tensorflow.contrib.learn.python.learn.ops.losses_ops) is deprecated and will be removed after 2016-12-01.\n",
      "Instructions for updating:\n",
      "Use `tf.contrib.losses.softmax_cross_entropy` and explicit logits computation.\n",
      "INFO:tensorflow:Loading model from checkpoint: C:\\Users\\INSTAL~1.15-\\AppData\\Local\\Temp\\tmptemz583q\\model.ckpt-300-?????-of-00001.\n",
      "0.859916143745\n"
     ]
    }
   ],
   "source": [
    "yhat_dict =  list(classifier.predict(X_test.astype(np.float32),as_iterable=True))\n",
    "yhat = np.array([x['class'] for x in yhat_dict])\n",
    "\n",
    "score = metrics.accuracy_score(y_test.astype(np.int64),yhat)\n",
    "print(score)"
   ]
  },
  {
   "cell_type": "code",
   "execution_count": 48,
   "metadata": {
    "collapsed": false
   },
   "outputs": [
    {
     "name": "stdout",
     "output_type": "stream",
     "text": [
      " -- After more tuning Confusion Matrix for the Second DNN architecture -- \n",
      "  [[338613  59337]\n",
      " [     0  25632]]\n"
     ]
    }
   ],
   "source": [
    "print(\" -- After more tuning Confusion Matrix for the Second DNN architecture -- \\n \", confusion_matrix(y_test.astype(np.int64), yhat))"
   ]
  },
  {
   "cell_type": "markdown",
   "metadata": {
    "collapsed": true
   },
   "source": [
    "#comment"
   ]
  },
  {
   "cell_type": "code",
   "execution_count": 49,
   "metadata": {
    "collapsed": false
   },
   "outputs": [
    {
     "name": "stdout",
     "output_type": "stream",
     "text": [
      "Second Deep NN AUC =0.93\n",
      "             precision    recall  f1-score   support\n",
      "\n",
      "          0       1.00      0.85      0.92    397950\n",
      "          1       0.30      1.00      0.46     25632\n",
      "\n",
      "avg / total       0.96      0.86      0.89    423582\n",
      "\n"
     ]
    }
   ],
   "source": [
    "from sklearn.metrics import roc_auc_score \n",
    "from sklearn.metrics import classification_report\n",
    "deep2ht2_roc_auc=roc_auc_score(y_test.astype(np.int64), yhat)\n",
    "print(\"Second Deep NN AUC =%2.2f\"%deep2ht2_roc_auc)\n",
    "print(classification_report(y_test.astype(np.int64), yhat) )"
   ]
  },
  {
   "cell_type": "markdown",
   "metadata": {
    "collapsed": true
   },
   "source": [
    "#comment on this result, performance is becoming better again!\n"
   ]
  },
  {
   "cell_type": "code",
   "execution_count": 50,
   "metadata": {
    "collapsed": false
   },
   "outputs": [
    {
     "data": {
      "image/png": "[encoded data removed]",
      "text/plain": [
       "<matplotlib.figure.Figure at 0x32e55780>"
      ]
     },
     "metadata": {},
     "output_type": "display_data"
    }
   ],
   "source": [
    "fpr, tpr, thresholds=roc_curve(y_test.astype(np.int64), yhat)\n",
    "import warnings\n",
    "warnings.simplefilter('ignore', DeprecationWarning)\n",
    "%matplotlib inline\n",
    "plt.figure()\n",
    "plt.plot(fpr, tpr, label='ROC curve (area= %2.2f)' % deep2ht2_roc_auc)\n",
    "plt.plot([0,1],[0,1], 'k--')\n",
    "plt.xlim(0.0, 1.0)\n",
    "plt.ylim(0.0, 1.05)\n",
    "plt.xlabel(\"False Positive Rate\")\n",
    "plt.ylabel(\"True Positive Rate\")\n",
    "plt.title(\"ROC Curve For The Second DNN architecture After more tuning\")\n",
    "plt.legend(loc=\"lower right\")\n",
    "plt.show()"
   ]
  },
  {
   "cell_type": "markdown",
   "metadata": {},
   "source": [
    "### Comments on the second architecture and the effect of hyper-parameters tuning:\n",
    "    \n",
    "From AUC of 0.5 to 0.87 after tuning the hyper-parameters!\n",
    "we can see how changing the number of hidden neurons can dramatically change performance \n",
    "also the number of steps is vital in the optimization procedure "
   ]
  },
  {
   "cell_type": "markdown",
   "metadata": {
    "collapsed": true
   },
   "source": [
    "### Comparing the two architectures:\n",
    "    - The largest value of AUC in the first architecture was AUC = 0.86 with Recall of 0.67 and F1 of 0.8 \n",
    "    - In the second architecture, the highest AUC we obtained is AUC = 0.97, and Recall of 0.95 and F1 = 0.97 \n",
    "Since we care about the True Negatives, False Positives and also True Positives, we can say that since F1 is much higher \n",
    "in the second architecture and there is an increase in teh AUC from 0.86 to 0.97 in the second architecture, \n",
    "The second architecture is performing better and results in better prediction capability with less false predictions.\n",
    "\n",
    "False Negatives are important because if someone should not be arrested and we predicted that they should be arrested \n",
    "then this destroys the whole concept behind our model and its goal. Since we want to help law enforcements to make better \n",
    "unbiased decision, False Negatives should be minimized so to avoid racism and unprofessionalism.\n",
    "\n",
    "False Positives are important too and this is because if a person should be arrested and we didn't arrest them, this will\n",
    "result in  \"probably\" a free criminal in the streets. And this certainly should be avoided. This is why we care about False \n",
    "Positives too.\n",
    "\n",
    "True positives are of our interest because it gives us an indication of how well we are performing in the sense that \n",
    "if a person should be arrested and we predicted that they should be arrested, this means that our model is correct and \n",
    "we are helping in making some correct decisions in making arrests. Of course, as we mentioned in lab2, all of these models\n",
    "should not be applied by any law enforcement until they test these models on the whole big dataset with all 123 features. \n",
    "    "
   ]
  },
  {
   "cell_type": "markdown",
   "metadata": {},
   "source": [
    "### Deployment:\n",
    "    \n",
    "Even though the second Deep Neural Network here showed better performance and significant performance over all previous models, \n",
    "including all models from lab2 (Logistic regression and Non-linear SVMs) we want to make it clear to the interested organizations\n",
    "that this model has the following problems:\n",
    "  - First, this model was only tested on a dataset of 13 features and around 500K instances. NYPD's stop and frisk dataset\n",
    "    has more than 123 features in their dataset and therefore, we can not say that this model will be useful to NYPD or any \n",
    "    law enforcement unless they test it on their data. \n",
    "    \n",
    "  - Second, we noticed some oscillation in the prediction capability when calculating the Area Under the Curve. For example,\n",
    "    in the first architecture we obtained AUC 0.86 and then we obtained 0.83 without changin the hyper-parameters. We are \n",
    "    not sure of the reason but it might be because of the samples that are taken or because the optimizer is giving different\n",
    "    weights everytime we run the code! Therefore, we recommend the interested organizations to make sure that if they want \n",
    "    to use such model, they have to make sure that it is performing within an acceptable window of performance. \n",
    "    \n",
    "  - Third, there are theoretically an infinite amount of architectures that can be used and we can not say that this model\n",
    "    is the best classifier among all other classifiers. Therefore, we recommend the interested organizations to compare this \n",
    "    model's performance with other models, test it on all of their dataset, and only then it might be really useful."
   ]
  }
 ],
 "metadata": {
  "anaconda-cloud": {},
  "kernelspec": {
   "display_name": "Python [Root]",
   "language": "python",
   "name": "Python [Root]"
  },
  "language_info": {
   "codemirror_mode": {
    "name": "ipython",
    "version": 3
   },
   "file_extension": ".py",
   "mimetype": "text/x-python",
   "name": "python",
   "nbconvert_exporter": "python",
   "pygments_lexer": "ipython3",
   "version": "3.5.2"
  }
 },
 "nbformat": 4,
 "nbformat_minor": 0
}
